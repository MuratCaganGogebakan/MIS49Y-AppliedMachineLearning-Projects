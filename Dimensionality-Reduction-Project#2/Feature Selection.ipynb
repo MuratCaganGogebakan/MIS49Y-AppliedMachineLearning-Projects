{
 "cells": [
  {
   "cell_type": "code",
   "execution_count": 1,
   "id": "bf47633c",
   "metadata": {},
   "outputs": [],
   "source": [
    "import pandas as pd\n",
    "import numpy as np\n",
    "from sklearn import preprocessing\n"
   ]
  },
  {
   "cell_type": "code",
   "execution_count": 2,
   "id": "3af2cc28",
   "metadata": {},
   "outputs": [],
   "source": [
    "botnet_df = pd.read_csv(\"botnet_sample.csv\")"
   ]
  },
  {
   "cell_type": "code",
   "execution_count": 3,
   "id": "a59c0122",
   "metadata": {},
   "outputs": [],
   "source": [
    "#df = botnet_df.sample(n = 100000)"
   ]
  },
  {
   "cell_type": "code",
   "execution_count": 4,
   "id": "0fd23882",
   "metadata": {},
   "outputs": [],
   "source": [
    "#df.to_csv(r\"./botnet_sample.csv\", index = False)"
   ]
  },
  {
   "cell_type": "code",
   "execution_count": 5,
   "id": "ff960b13",
   "metadata": {
    "scrolled": false
   },
   "outputs": [
    {
     "data": {
      "text/html": [
       "<div>\n",
       "<style scoped>\n",
       "    .dataframe tbody tr th:only-of-type {\n",
       "        vertical-align: middle;\n",
       "    }\n",
       "\n",
       "    .dataframe tbody tr th {\n",
       "        vertical-align: top;\n",
       "    }\n",
       "\n",
       "    .dataframe thead th {\n",
       "        text-align: right;\n",
       "    }\n",
       "</style>\n",
       "<table border=\"1\" class=\"dataframe\">\n",
       "  <thead>\n",
       "    <tr style=\"text-align: right;\">\n",
       "      <th></th>\n",
       "      <th>MI_dir_L0.1_weight</th>\n",
       "      <th>MI_dir_L0.1_mean</th>\n",
       "      <th>MI_dir_L0.1_variance</th>\n",
       "      <th>H_L0.1_weight</th>\n",
       "      <th>H_L0.1_mean</th>\n",
       "      <th>H_L0.1_variance</th>\n",
       "      <th>HH_L0.1_weight</th>\n",
       "      <th>HH_L0.1_mean</th>\n",
       "      <th>HH_L0.1_std</th>\n",
       "      <th>HH_L0.1_magnitude</th>\n",
       "      <th>...</th>\n",
       "      <th>HpHp_L0.1_mean</th>\n",
       "      <th>HpHp_L0.1_std</th>\n",
       "      <th>HpHp_L0.1_magnitude</th>\n",
       "      <th>HpHp_L0.1_radius</th>\n",
       "      <th>HpHp_L0.1_covariance</th>\n",
       "      <th>HpHp_L0.1_pcc</th>\n",
       "      <th>Device_Name</th>\n",
       "      <th>Attack</th>\n",
       "      <th>Attack_subType</th>\n",
       "      <th>label</th>\n",
       "    </tr>\n",
       "  </thead>\n",
       "  <tbody>\n",
       "    <tr>\n",
       "      <th>0</th>\n",
       "      <td>1.000000</td>\n",
       "      <td>60.000000</td>\n",
       "      <td>0.000000</td>\n",
       "      <td>1.000000</td>\n",
       "      <td>60.000000</td>\n",
       "      <td>0.000000</td>\n",
       "      <td>1.000000</td>\n",
       "      <td>60.000000</td>\n",
       "      <td>0.000000</td>\n",
       "      <td>60.000000</td>\n",
       "      <td>...</td>\n",
       "      <td>60.0</td>\n",
       "      <td>0.0</td>\n",
       "      <td>60.00000</td>\n",
       "      <td>0.0</td>\n",
       "      <td>0.000000e+00</td>\n",
       "      <td>0.0</td>\n",
       "      <td>Philips_B120N10_Baby_Monitor</td>\n",
       "      <td>gafgyt</td>\n",
       "      <td>tcp</td>\n",
       "      <td>0</td>\n",
       "    </tr>\n",
       "    <tr>\n",
       "      <th>1</th>\n",
       "      <td>6359.849398</td>\n",
       "      <td>433.330869</td>\n",
       "      <td>49454.689613</td>\n",
       "      <td>6359.849398</td>\n",
       "      <td>433.330869</td>\n",
       "      <td>49454.689613</td>\n",
       "      <td>1.000000</td>\n",
       "      <td>60.000000</td>\n",
       "      <td>0.000000</td>\n",
       "      <td>60.000000</td>\n",
       "      <td>...</td>\n",
       "      <td>60.0</td>\n",
       "      <td>0.0</td>\n",
       "      <td>60.00000</td>\n",
       "      <td>0.0</td>\n",
       "      <td>0.000000e+00</td>\n",
       "      <td>0.0</td>\n",
       "      <td>Ecobee_Thermostat</td>\n",
       "      <td>mirai</td>\n",
       "      <td>ack</td>\n",
       "      <td>0</td>\n",
       "    </tr>\n",
       "    <tr>\n",
       "      <th>2</th>\n",
       "      <td>5777.340832</td>\n",
       "      <td>428.923288</td>\n",
       "      <td>50516.327209</td>\n",
       "      <td>5777.340832</td>\n",
       "      <td>428.923288</td>\n",
       "      <td>50516.327209</td>\n",
       "      <td>4211.512980</td>\n",
       "      <td>565.934568</td>\n",
       "      <td>5.753625</td>\n",
       "      <td>565.934568</td>\n",
       "      <td>...</td>\n",
       "      <td>566.0</td>\n",
       "      <td>0.0</td>\n",
       "      <td>566.00000</td>\n",
       "      <td>0.0</td>\n",
       "      <td>0.000000e+00</td>\n",
       "      <td>0.0</td>\n",
       "      <td>SimpleHome_XCS7_1002_WHT_Security_Camera</td>\n",
       "      <td>mirai</td>\n",
       "      <td>ack</td>\n",
       "      <td>0</td>\n",
       "    </tr>\n",
       "    <tr>\n",
       "      <th>3</th>\n",
       "      <td>1.733683</td>\n",
       "      <td>282.162556</td>\n",
       "      <td>10627.688840</td>\n",
       "      <td>1.733683</td>\n",
       "      <td>282.162556</td>\n",
       "      <td>10627.688840</td>\n",
       "      <td>1.213257</td>\n",
       "      <td>330.000000</td>\n",
       "      <td>0.000000</td>\n",
       "      <td>431.490440</td>\n",
       "      <td>...</td>\n",
       "      <td>330.0</td>\n",
       "      <td>0.0</td>\n",
       "      <td>431.49044</td>\n",
       "      <td>0.0</td>\n",
       "      <td>-4.260000e-122</td>\n",
       "      <td>0.0</td>\n",
       "      <td>SimpleHome_XCS7_1003_WHT_Security_Camera</td>\n",
       "      <td>Normal</td>\n",
       "      <td>Normal</td>\n",
       "      <td>1</td>\n",
       "    </tr>\n",
       "    <tr>\n",
       "      <th>4</th>\n",
       "      <td>5985.352612</td>\n",
       "      <td>427.188247</td>\n",
       "      <td>46548.123891</td>\n",
       "      <td>5985.352612</td>\n",
       "      <td>427.188247</td>\n",
       "      <td>46548.123891</td>\n",
       "      <td>4449.260817</td>\n",
       "      <td>553.914475</td>\n",
       "      <td>6.499374</td>\n",
       "      <td>553.914475</td>\n",
       "      <td>...</td>\n",
       "      <td>554.0</td>\n",
       "      <td>0.0</td>\n",
       "      <td>554.00000</td>\n",
       "      <td>0.0</td>\n",
       "      <td>0.000000e+00</td>\n",
       "      <td>0.0</td>\n",
       "      <td>SimpleHome_XCS7_1002_WHT_Security_Camera</td>\n",
       "      <td>mirai</td>\n",
       "      <td>udp</td>\n",
       "      <td>0</td>\n",
       "    </tr>\n",
       "  </tbody>\n",
       "</table>\n",
       "<p>5 rows × 27 columns</p>\n",
       "</div>"
      ],
      "text/plain": [
       "   MI_dir_L0.1_weight  MI_dir_L0.1_mean  MI_dir_L0.1_variance  H_L0.1_weight  \\\n",
       "0            1.000000         60.000000              0.000000       1.000000   \n",
       "1         6359.849398        433.330869          49454.689613    6359.849398   \n",
       "2         5777.340832        428.923288          50516.327209    5777.340832   \n",
       "3            1.733683        282.162556          10627.688840       1.733683   \n",
       "4         5985.352612        427.188247          46548.123891    5985.352612   \n",
       "\n",
       "   H_L0.1_mean  H_L0.1_variance  HH_L0.1_weight  HH_L0.1_mean  HH_L0.1_std  \\\n",
       "0    60.000000         0.000000        1.000000     60.000000     0.000000   \n",
       "1   433.330869     49454.689613        1.000000     60.000000     0.000000   \n",
       "2   428.923288     50516.327209     4211.512980    565.934568     5.753625   \n",
       "3   282.162556     10627.688840        1.213257    330.000000     0.000000   \n",
       "4   427.188247     46548.123891     4449.260817    553.914475     6.499374   \n",
       "\n",
       "   HH_L0.1_magnitude  ...  HpHp_L0.1_mean  HpHp_L0.1_std  HpHp_L0.1_magnitude  \\\n",
       "0          60.000000  ...            60.0            0.0             60.00000   \n",
       "1          60.000000  ...            60.0            0.0             60.00000   \n",
       "2         565.934568  ...           566.0            0.0            566.00000   \n",
       "3         431.490440  ...           330.0            0.0            431.49044   \n",
       "4         553.914475  ...           554.0            0.0            554.00000   \n",
       "\n",
       "   HpHp_L0.1_radius  HpHp_L0.1_covariance  HpHp_L0.1_pcc  \\\n",
       "0               0.0          0.000000e+00            0.0   \n",
       "1               0.0          0.000000e+00            0.0   \n",
       "2               0.0          0.000000e+00            0.0   \n",
       "3               0.0        -4.260000e-122            0.0   \n",
       "4               0.0          0.000000e+00            0.0   \n",
       "\n",
       "                                Device_Name  Attack  Attack_subType  label  \n",
       "0              Philips_B120N10_Baby_Monitor  gafgyt             tcp      0  \n",
       "1                         Ecobee_Thermostat   mirai             ack      0  \n",
       "2  SimpleHome_XCS7_1002_WHT_Security_Camera   mirai             ack      0  \n",
       "3  SimpleHome_XCS7_1003_WHT_Security_Camera  Normal          Normal      1  \n",
       "4  SimpleHome_XCS7_1002_WHT_Security_Camera   mirai             udp      0  \n",
       "\n",
       "[5 rows x 27 columns]"
      ]
     },
     "execution_count": 5,
     "metadata": {},
     "output_type": "execute_result"
    }
   ],
   "source": [
    "botnet_df.head()\n"
   ]
  },
  {
   "cell_type": "code",
   "execution_count": 6,
   "id": "21c48c43",
   "metadata": {},
   "outputs": [
    {
     "name": "stdout",
     "output_type": "stream",
     "text": [
      "(100000, 27)\n"
     ]
    }
   ],
   "source": [
    "print(botnet_df.shape)"
   ]
  },
  {
   "cell_type": "code",
   "execution_count": 7,
   "id": "7d6eb5af",
   "metadata": {},
   "outputs": [],
   "source": [
    "del botnet_df[\"Device_Name\"]\n",
    "del botnet_df[\"Attack_subType\"]\n",
    "del botnet_df[\"label\"]"
   ]
  },
  {
   "cell_type": "code",
   "execution_count": 8,
   "id": "3d71186b",
   "metadata": {},
   "outputs": [],
   "source": [
    "# We deleted other botnets beacuse they were too infrequent compared to two major ones.\n",
    "botnet_df = botnet_df.loc[botnet_df['Attack'].isin([\"gafgyt\", \"mirai\"])]"
   ]
  },
  {
   "cell_type": "code",
   "execution_count": 9,
   "id": "ee31fe8e",
   "metadata": {},
   "outputs": [],
   "source": [
    "# Changed categorical data to numeric type so we can calculate correlations.\n",
    "botnet_df['Attack'].replace(['gafgyt', 'mirai'],\n",
    "                        [0, 1], inplace=True)"
   ]
  },
  {
   "cell_type": "code",
   "execution_count": 10,
   "id": "4c8e2f6a",
   "metadata": {},
   "outputs": [],
   "source": [
    "scaler = preprocessing.MinMaxScaler()\n",
    "d = scaler.fit_transform(botnet_df)\n",
    "botnet_df = pd.DataFrame(d, columns = botnet_df.columns)"
   ]
  },
  {
   "cell_type": "code",
   "execution_count": 11,
   "id": "73ffb074",
   "metadata": {},
   "outputs": [],
   "source": [
    "array = botnet_df.values\n",
    "y = array[:,23]\n",
    "X = botnet_df\n",
    "del X[\"Attack\"]\n",
    "num_feats = 10"
   ]
  },
  {
   "cell_type": "code",
   "execution_count": 12,
   "id": "e402329a",
   "metadata": {},
   "outputs": [],
   "source": [
    "feature_name = list(X.columns)"
   ]
  },
  {
   "cell_type": "code",
   "execution_count": 13,
   "id": "25b426d8",
   "metadata": {},
   "outputs": [],
   "source": [
    "from sklearn.feature_selection import SelectKBest\n",
    "from sklearn.feature_selection import chi2"
   ]
  },
  {
   "cell_type": "code",
   "execution_count": 14,
   "id": "c09ff739",
   "metadata": {},
   "outputs": [
    {
     "name": "stdout",
     "output_type": "stream",
     "text": [
      "10 selected features\n"
     ]
    }
   ],
   "source": [
    "def cor_selector(X, y,num_feats):\n",
    "    cor_list = []\n",
    "    feature_name = X.columns.tolist()\n",
    "    # calculate the correlation with y for each feature\n",
    "    for i in X.columns.tolist():\n",
    "        cor = np.corrcoef(X[i], y)[0, 1]\n",
    "        cor_list.append(cor)\n",
    "    # replace NaN with 0\n",
    "    cor_list = [0 if np.isnan(i) else i for i in cor_list]\n",
    "    # feature name\n",
    "    cor_feature = X.iloc[:,np.argsort(np.abs(cor_list))[-num_feats:]].columns.tolist()\n",
    "    # feature selection? 0 for not select, 1 for select\n",
    "    cor_support = [True if i in cor_feature else False for i in feature_name]\n",
    "    return cor_support, cor_feature\n",
    "cor_support, cor_feature = cor_selector(X, y,num_feats)\n",
    "print(str(len(cor_feature)), 'selected features')"
   ]
  },
  {
   "cell_type": "code",
   "execution_count": 15,
   "id": "7925becb",
   "metadata": {},
   "outputs": [
    {
     "data": {
      "text/plain": [
       "['HH_L0.1_magnitude',\n",
       " 'HpHp_L0.1_magnitude',\n",
       " 'HpHp_L0.1_mean',\n",
       " 'HH_L0.1_mean',\n",
       " 'H_L0.1_weight',\n",
       " 'MI_dir_L0.1_weight',\n",
       " 'H_L0.1_variance',\n",
       " 'MI_dir_L0.1_variance',\n",
       " 'MI_dir_L0.1_mean',\n",
       " 'H_L0.1_mean']"
      ]
     },
     "execution_count": 15,
     "metadata": {},
     "output_type": "execute_result"
    }
   ],
   "source": [
    "cor_feature"
   ]
  },
  {
   "cell_type": "code",
   "execution_count": 16,
   "id": "6c7a301f",
   "metadata": {},
   "outputs": [
    {
     "name": "stdout",
     "output_type": "stream",
     "text": [
      "10 selected features\n"
     ]
    }
   ],
   "source": [
    "X_norm = preprocessing.MinMaxScaler().fit_transform(X)\n",
    "chi_selector = SelectKBest(chi2, k=num_feats)\n",
    "chi_selector.fit(X_norm, y)\n",
    "chi_support = chi_selector.get_support()\n",
    "chi_feature = X.loc[:,chi_support].columns.tolist()\n",
    "print(str(len(chi_feature)), 'selected features')"
   ]
  },
  {
   "cell_type": "code",
   "execution_count": 17,
   "id": "9cb2e97d",
   "metadata": {},
   "outputs": [
    {
     "data": {
      "text/plain": [
       "['MI_dir_L0.1_weight',\n",
       " 'MI_dir_L0.1_mean',\n",
       " 'MI_dir_L0.1_variance',\n",
       " 'H_L0.1_weight',\n",
       " 'H_L0.1_mean',\n",
       " 'H_L0.1_variance',\n",
       " 'HH_L0.1_mean',\n",
       " 'HH_L0.1_magnitude',\n",
       " 'HpHp_L0.1_mean',\n",
       " 'HpHp_L0.1_magnitude']"
      ]
     },
     "execution_count": 17,
     "metadata": {},
     "output_type": "execute_result"
    }
   ],
   "source": [
    "chi_feature"
   ]
  },
  {
   "cell_type": "code",
   "execution_count": 18,
   "id": "f573a21e",
   "metadata": {},
   "outputs": [
    {
     "name": "stdout",
     "output_type": "stream",
     "text": [
      "Fitting estimator with 23 features.\n",
      "Fitting estimator with 13 features.\n"
     ]
    },
    {
     "data": {
      "text/plain": [
       "RFE(estimator=LogisticRegression(), n_features_to_select=10, step=10, verbose=5)"
      ]
     },
     "execution_count": 18,
     "metadata": {},
     "output_type": "execute_result"
    }
   ],
   "source": [
    "from sklearn.feature_selection import RFE\n",
    "from sklearn.linear_model import LogisticRegression\n",
    "rfe_selector = RFE(estimator=LogisticRegression(), n_features_to_select=num_feats, step=10, verbose=5)\n",
    "rfe_selector.fit(X_norm, y)"
   ]
  },
  {
   "cell_type": "code",
   "execution_count": 19,
   "id": "ec462b04",
   "metadata": {},
   "outputs": [
    {
     "name": "stdout",
     "output_type": "stream",
     "text": [
      "10 selected features\n"
     ]
    }
   ],
   "source": [
    "rfe_support = rfe_selector.get_support()\n",
    "rfe_feature = X.loc[:,rfe_support].columns.tolist()\n",
    "print(str(len(rfe_feature)), 'selected features')"
   ]
  },
  {
   "cell_type": "code",
   "execution_count": 20,
   "id": "864d2bd5",
   "metadata": {},
   "outputs": [
    {
     "data": {
      "text/plain": [
       "['MI_dir_L0.1_weight',\n",
       " 'MI_dir_L0.1_mean',\n",
       " 'H_L0.1_weight',\n",
       " 'HH_L0.1_weight',\n",
       " 'HH_L0.1_magnitude',\n",
       " 'HH_L0.1_radius',\n",
       " 'HH_L0.1_pcc',\n",
       " 'HH_jit_L0.1_weight',\n",
       " 'HH_jit_L0.1_variance',\n",
       " 'HpHp_L0.1_std']"
      ]
     },
     "execution_count": 20,
     "metadata": {},
     "output_type": "execute_result"
    }
   ],
   "source": [
    "rfe_feature"
   ]
  },
  {
   "cell_type": "code",
   "execution_count": 21,
   "id": "c9579f8d",
   "metadata": {},
   "outputs": [
    {
     "name": "stderr",
     "output_type": "stream",
     "text": [
      "/Users/bakolas/opt/anaconda3/envs/geopandas/lib/python3.7/site-packages/numpy/core/fromnumeric.py:84: FutureWarning: Dropping of nuisance columns in DataFrame reductions (with 'numeric_only=None') is deprecated; in a future version this will raise TypeError.  Select only valid columns before calling the reduction.\n",
      "  return reduction(axis=axis, out=out, **passkwargs)\n"
     ]
    },
    {
     "data": {
      "text/html": [
       "<div>\n",
       "<style scoped>\n",
       "    .dataframe tbody tr th:only-of-type {\n",
       "        vertical-align: middle;\n",
       "    }\n",
       "\n",
       "    .dataframe tbody tr th {\n",
       "        vertical-align: top;\n",
       "    }\n",
       "\n",
       "    .dataframe thead th {\n",
       "        text-align: right;\n",
       "    }\n",
       "</style>\n",
       "<table border=\"1\" class=\"dataframe\">\n",
       "  <thead>\n",
       "    <tr style=\"text-align: right;\">\n",
       "      <th></th>\n",
       "      <th>Feature</th>\n",
       "      <th>Pearson</th>\n",
       "      <th>Chi-2</th>\n",
       "      <th>RFE</th>\n",
       "      <th>Total</th>\n",
       "    </tr>\n",
       "  </thead>\n",
       "  <tbody>\n",
       "    <tr>\n",
       "      <th>1</th>\n",
       "      <td>MI_dir_L0.1_weight</td>\n",
       "      <td>True</td>\n",
       "      <td>True</td>\n",
       "      <td>True</td>\n",
       "      <td>3</td>\n",
       "    </tr>\n",
       "    <tr>\n",
       "      <th>2</th>\n",
       "      <td>MI_dir_L0.1_mean</td>\n",
       "      <td>True</td>\n",
       "      <td>True</td>\n",
       "      <td>True</td>\n",
       "      <td>3</td>\n",
       "    </tr>\n",
       "    <tr>\n",
       "      <th>3</th>\n",
       "      <td>H_L0.1_weight</td>\n",
       "      <td>True</td>\n",
       "      <td>True</td>\n",
       "      <td>True</td>\n",
       "      <td>3</td>\n",
       "    </tr>\n",
       "    <tr>\n",
       "      <th>4</th>\n",
       "      <td>HH_L0.1_magnitude</td>\n",
       "      <td>True</td>\n",
       "      <td>True</td>\n",
       "      <td>True</td>\n",
       "      <td>3</td>\n",
       "    </tr>\n",
       "    <tr>\n",
       "      <th>5</th>\n",
       "      <td>MI_dir_L0.1_variance</td>\n",
       "      <td>True</td>\n",
       "      <td>True</td>\n",
       "      <td>False</td>\n",
       "      <td>2</td>\n",
       "    </tr>\n",
       "    <tr>\n",
       "      <th>6</th>\n",
       "      <td>HpHp_L0.1_mean</td>\n",
       "      <td>True</td>\n",
       "      <td>True</td>\n",
       "      <td>False</td>\n",
       "      <td>2</td>\n",
       "    </tr>\n",
       "    <tr>\n",
       "      <th>7</th>\n",
       "      <td>HpHp_L0.1_magnitude</td>\n",
       "      <td>True</td>\n",
       "      <td>True</td>\n",
       "      <td>False</td>\n",
       "      <td>2</td>\n",
       "    </tr>\n",
       "    <tr>\n",
       "      <th>8</th>\n",
       "      <td>H_L0.1_variance</td>\n",
       "      <td>True</td>\n",
       "      <td>True</td>\n",
       "      <td>False</td>\n",
       "      <td>2</td>\n",
       "    </tr>\n",
       "    <tr>\n",
       "      <th>9</th>\n",
       "      <td>H_L0.1_mean</td>\n",
       "      <td>True</td>\n",
       "      <td>True</td>\n",
       "      <td>False</td>\n",
       "      <td>2</td>\n",
       "    </tr>\n",
       "    <tr>\n",
       "      <th>10</th>\n",
       "      <td>HH_L0.1_mean</td>\n",
       "      <td>True</td>\n",
       "      <td>True</td>\n",
       "      <td>False</td>\n",
       "      <td>2</td>\n",
       "    </tr>\n",
       "    <tr>\n",
       "      <th>11</th>\n",
       "      <td>HpHp_L0.1_std</td>\n",
       "      <td>False</td>\n",
       "      <td>False</td>\n",
       "      <td>True</td>\n",
       "      <td>1</td>\n",
       "    </tr>\n",
       "    <tr>\n",
       "      <th>12</th>\n",
       "      <td>HH_jit_L0.1_weight</td>\n",
       "      <td>False</td>\n",
       "      <td>False</td>\n",
       "      <td>True</td>\n",
       "      <td>1</td>\n",
       "    </tr>\n",
       "    <tr>\n",
       "      <th>13</th>\n",
       "      <td>HH_jit_L0.1_variance</td>\n",
       "      <td>False</td>\n",
       "      <td>False</td>\n",
       "      <td>True</td>\n",
       "      <td>1</td>\n",
       "    </tr>\n",
       "    <tr>\n",
       "      <th>14</th>\n",
       "      <td>HH_L0.1_weight</td>\n",
       "      <td>False</td>\n",
       "      <td>False</td>\n",
       "      <td>True</td>\n",
       "      <td>1</td>\n",
       "    </tr>\n",
       "    <tr>\n",
       "      <th>15</th>\n",
       "      <td>HH_L0.1_radius</td>\n",
       "      <td>False</td>\n",
       "      <td>False</td>\n",
       "      <td>True</td>\n",
       "      <td>1</td>\n",
       "    </tr>\n",
       "    <tr>\n",
       "      <th>16</th>\n",
       "      <td>HH_L0.1_pcc</td>\n",
       "      <td>False</td>\n",
       "      <td>False</td>\n",
       "      <td>True</td>\n",
       "      <td>1</td>\n",
       "    </tr>\n",
       "    <tr>\n",
       "      <th>17</th>\n",
       "      <td>HpHp_L0.1_weight</td>\n",
       "      <td>False</td>\n",
       "      <td>False</td>\n",
       "      <td>False</td>\n",
       "      <td>0</td>\n",
       "    </tr>\n",
       "    <tr>\n",
       "      <th>18</th>\n",
       "      <td>HpHp_L0.1_radius</td>\n",
       "      <td>False</td>\n",
       "      <td>False</td>\n",
       "      <td>False</td>\n",
       "      <td>0</td>\n",
       "    </tr>\n",
       "    <tr>\n",
       "      <th>19</th>\n",
       "      <td>HpHp_L0.1_pcc</td>\n",
       "      <td>False</td>\n",
       "      <td>False</td>\n",
       "      <td>False</td>\n",
       "      <td>0</td>\n",
       "    </tr>\n",
       "    <tr>\n",
       "      <th>20</th>\n",
       "      <td>HpHp_L0.1_covariance</td>\n",
       "      <td>False</td>\n",
       "      <td>False</td>\n",
       "      <td>False</td>\n",
       "      <td>0</td>\n",
       "    </tr>\n",
       "    <tr>\n",
       "      <th>21</th>\n",
       "      <td>HH_jit_L0.1_mean</td>\n",
       "      <td>False</td>\n",
       "      <td>False</td>\n",
       "      <td>False</td>\n",
       "      <td>0</td>\n",
       "    </tr>\n",
       "    <tr>\n",
       "      <th>22</th>\n",
       "      <td>HH_L0.1_std</td>\n",
       "      <td>False</td>\n",
       "      <td>False</td>\n",
       "      <td>False</td>\n",
       "      <td>0</td>\n",
       "    </tr>\n",
       "    <tr>\n",
       "      <th>23</th>\n",
       "      <td>HH_L0.1_covariance</td>\n",
       "      <td>False</td>\n",
       "      <td>False</td>\n",
       "      <td>False</td>\n",
       "      <td>0</td>\n",
       "    </tr>\n",
       "  </tbody>\n",
       "</table>\n",
       "</div>"
      ],
      "text/plain": [
       "                 Feature  Pearson  Chi-2    RFE  Total\n",
       "1     MI_dir_L0.1_weight     True   True   True      3\n",
       "2       MI_dir_L0.1_mean     True   True   True      3\n",
       "3          H_L0.1_weight     True   True   True      3\n",
       "4      HH_L0.1_magnitude     True   True   True      3\n",
       "5   MI_dir_L0.1_variance     True   True  False      2\n",
       "6         HpHp_L0.1_mean     True   True  False      2\n",
       "7    HpHp_L0.1_magnitude     True   True  False      2\n",
       "8        H_L0.1_variance     True   True  False      2\n",
       "9            H_L0.1_mean     True   True  False      2\n",
       "10          HH_L0.1_mean     True   True  False      2\n",
       "11         HpHp_L0.1_std    False  False   True      1\n",
       "12    HH_jit_L0.1_weight    False  False   True      1\n",
       "13  HH_jit_L0.1_variance    False  False   True      1\n",
       "14        HH_L0.1_weight    False  False   True      1\n",
       "15        HH_L0.1_radius    False  False   True      1\n",
       "16           HH_L0.1_pcc    False  False   True      1\n",
       "17      HpHp_L0.1_weight    False  False  False      0\n",
       "18      HpHp_L0.1_radius    False  False  False      0\n",
       "19         HpHp_L0.1_pcc    False  False  False      0\n",
       "20  HpHp_L0.1_covariance    False  False  False      0\n",
       "21      HH_jit_L0.1_mean    False  False  False      0\n",
       "22           HH_L0.1_std    False  False  False      0\n",
       "23    HH_L0.1_covariance    False  False  False      0"
      ]
     },
     "execution_count": 21,
     "metadata": {},
     "output_type": "execute_result"
    }
   ],
   "source": [
    "pd.set_option('display.max_rows', None)\n",
    "# put all selection together\n",
    "feature_selection_df = pd.DataFrame({'Feature':feature_name, 'Pearson':cor_support, 'Chi-2':chi_support, 'RFE':rfe_support})\n",
    "# count the selected times for each feature\n",
    "feature_selection_df['Total'] = np.sum(feature_selection_df, axis=1)\n",
    "# display the top 100\n",
    "feature_selection_df = feature_selection_df.sort_values(['Total','Feature'] , ascending=False)\n",
    "feature_selection_df.index = range(1, len(feature_selection_df)+1)\n",
    "feature_selection_df.head(23)"
   ]
  },
  {
   "cell_type": "code",
   "execution_count": null,
   "id": "ec97ec16",
   "metadata": {},
   "outputs": [],
   "source": []
  },
  {
   "cell_type": "code",
   "execution_count": null,
   "id": "e010f40a",
   "metadata": {},
   "outputs": [],
   "source": []
  }
 ],
 "metadata": {
  "kernelspec": {
   "display_name": "Python 3 (ipykernel)",
   "language": "python",
   "name": "python3"
  },
  "language_info": {
   "codemirror_mode": {
    "name": "ipython",
    "version": 3
   },
   "file_extension": ".py",
   "mimetype": "text/x-python",
   "name": "python",
   "nbconvert_exporter": "python",
   "pygments_lexer": "ipython3",
   "version": "3.7.13"
  }
 },
 "nbformat": 4,
 "nbformat_minor": 5
}
