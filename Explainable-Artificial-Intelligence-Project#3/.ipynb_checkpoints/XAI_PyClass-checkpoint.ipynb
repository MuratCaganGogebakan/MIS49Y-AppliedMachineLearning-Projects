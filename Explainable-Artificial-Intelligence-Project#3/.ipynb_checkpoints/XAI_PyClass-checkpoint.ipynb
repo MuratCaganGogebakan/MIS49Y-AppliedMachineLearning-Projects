{
 "cells": [
  {
   "cell_type": "code",
   "execution_count": null,
   "metadata": {
    "id": "B26OlqwcSGev"
   },
   "outputs": [],
   "source": [
    "import pandas as pd\n",
    "import tensorflow as tf\n",
    "import numpy as np\n",
    "from tensorflow import keras\n",
    "from sklearn.model_selection import train_test_split"
   ]
  },
  {
   "cell_type": "code",
   "execution_count": null,
   "metadata": {
    "colab": {
     "base_uri": "https://localhost:8080/"
    },
    "id": "6mqh-nnW0dlL",
    "outputId": "30c9b878-a112-461f-aa73-d7007d6389aa"
   },
   "outputs": [],
   "source": [
    "!pip install lime"
   ]
  },
  {
   "cell_type": "code",
   "execution_count": null,
   "metadata": {
    "id": "dUzaHX9FOY3f"
   },
   "outputs": [],
   "source": [
    "df = pd.read_csv('IRIS.csv')"
   ]
  },
  {
   "cell_type": "code",
   "execution_count": null,
   "metadata": {
    "colab": {
     "base_uri": "https://localhost:8080/",
     "height": 419
    },
    "id": "55aNqaH7OY6x",
    "outputId": "8690f3c3-2e6c-46eb-93fb-0c6851987bed"
   },
   "outputs": [],
   "source": [
    "df"
   ]
  },
  {
   "cell_type": "code",
   "execution_count": null,
   "metadata": {
    "colab": {
     "base_uri": "https://localhost:8080/",
     "height": 419
    },
    "id": "bJzF6YAriqZC",
    "outputId": "c87302b2-feb9-4901-fb53-f5fb8cca4323"
   },
   "outputs": [],
   "source": [
    "Species=pd.get_dummies(df[\"species\"])\n",
    "Species"
   ]
  },
  {
   "cell_type": "code",
   "execution_count": null,
   "metadata": {
    "colab": {
     "base_uri": "https://localhost:8080/",
     "height": 419
    },
    "id": "k8ArCAGJiqbZ",
    "outputId": "9c81c58c-1874-4143-e267-9ee67ef52cb1"
   },
   "outputs": [],
   "source": [
    "iris_data = pd.concat([df.drop(\"species\", axis = 1),Species], axis =1)\n",
    "iris_data"
   ]
  },
  {
   "cell_type": "code",
   "execution_count": null,
   "metadata": {
    "colab": {
     "base_uri": "https://localhost:8080/",
     "height": 1000
    },
    "id": "2Pj2FKUIk220",
    "outputId": "aec283fd-1143-4d0a-c35f-3b1dd568e189"
   },
   "outputs": [],
   "source": [
    "x = iris_data[['sepal_length','sepal_width', 'petal_length', 'petal_width']]\n",
    "y = iris_data[['Iris-setosa', 'Iris-versicolor', 'Iris-virginica']]\n",
    "x_train, x_test, y_train, y_test = train_test_split(x, y, test_size=0.3, train_size= 0.7, random_state = 101)\n",
    "y_test\n"
   ]
  },
  {
   "cell_type": "code",
   "execution_count": null,
   "metadata": {
    "colab": {
     "base_uri": "https://localhost:8080/"
    },
    "id": "bspdnwepOZZT",
    "outputId": "e736ecf5-cfb0-4aaa-d138-4c4cd987bd78"
   },
   "outputs": [],
   "source": [
    "model = tf.keras.Sequential()\n",
    "\n",
    "model.add(keras.Input(shape= (4)))\n",
    "model.add(keras.layers.Dense(32, activation= 'relu'))\n",
    "model.add(keras.layers.Dense(16, activation= 'relu'))\n",
    "model.add(keras.layers.Dense(8, activation= 'relu'))\n",
    "model.add(keras.layers.Dense(3, activation= 'softmax'))\n",
    "\n",
    "\n",
    "model.summary()"
   ]
  },
  {
   "cell_type": "code",
   "execution_count": null,
   "metadata": {
    "id": "1aQld9wZdo1o"
   },
   "outputs": [],
   "source": [
    "model.compile(optimizer = 'Adam', loss = 'mse', metrics = 'Accuracy')"
   ]
  },
  {
   "cell_type": "code",
   "execution_count": null,
   "metadata": {
    "colab": {
     "base_uri": "https://localhost:8080/"
    },
    "id": "WIEnp5eXdpOE",
    "outputId": "aa03a5f9-2ed6-48fb-aa5f-f98c1496d4db"
   },
   "outputs": [],
   "source": [
    "history = model.fit(x_train, y_train,batch_size = 15, epochs= 100,)"
   ]
  },
  {
   "cell_type": "code",
   "execution_count": null,
   "metadata": {
    "id": "ngooKUnr0vkv"
   },
   "outputs": [],
   "source": [
    "model.evaluate(x_test, y_test)"
   ]
  },
  {
   "cell_type": "code",
   "execution_count": null,
   "metadata": {
    "colab": {
     "base_uri": "https://localhost:8080/"
    },
    "id": "kElOYqAJ50HU",
    "outputId": "3710c5a1-6a3f-4813-e242-1e3892e86d32"
   },
   "outputs": [],
   "source": [
    "model.predict(x_test)"
   ]
  },
  {
   "cell_type": "code",
   "execution_count": null,
   "metadata": {
    "colab": {
     "base_uri": "https://localhost:8080/",
     "height": 206
    },
    "id": "HFl2YTni6cCp",
    "outputId": "5c472361-5b6b-413b-fb51-33fbf85885b3"
   },
   "outputs": [],
   "source": [
    "x_test.head()"
   ]
  },
  {
   "cell_type": "code",
   "execution_count": null,
   "metadata": {
    "id": "Cao9IbAHz8Hx"
   },
   "outputs": [],
   "source": [
    "from lime import lime_tabular\n",
    "explainer = lime_tabular.LimeTabularExplainer(training_data = np.array(x_train), mode = \"regression\",\n",
    "                                             feature_names = x_train.columns, categorical_features = [0])"
   ]
  },
  {
   "cell_type": "code",
   "execution_count": null,
   "metadata": {
    "colab": {
     "background_save": true,
     "base_uri": "https://localhost:8080/",
     "height": 157
    },
    "id": "KjcbFsjJ0WLZ",
    "outputId": "ef15ed51-617f-42e3-e1f6-a1bdc03fed1c"
   },
   "outputs": [],
   "source": [
    "exp = explainer.explain_instance(data_row = x_test.iloc[2],\n",
    "                                predict_fn = model.predict)\n",
    "exp.show_in_notebook(show_table = True)"
   ]
  }
 ],
 "metadata": {
  "colab": {
   "collapsed_sections": [],
   "name": "XAI PyClass",
   "provenance": []
  },
  "kernelspec": {
   "display_name": "Python 3 (ipykernel)",
   "language": "python",
   "name": "python3"
  },
  "language_info": {
   "codemirror_mode": {
    "name": "ipython",
    "version": 3
   },
   "file_extension": ".py",
   "mimetype": "text/x-python",
   "name": "python",
   "nbconvert_exporter": "python",
   "pygments_lexer": "ipython3",
   "version": "3.7.13"
  }
 },
 "nbformat": 4,
 "nbformat_minor": 1
}
