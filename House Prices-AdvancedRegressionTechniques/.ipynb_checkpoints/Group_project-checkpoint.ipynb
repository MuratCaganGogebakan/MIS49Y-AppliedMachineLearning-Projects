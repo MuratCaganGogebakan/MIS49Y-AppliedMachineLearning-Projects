{
 "cells": [
  {
   "cell_type": "code",
   "execution_count": 1,
   "id": "14302f81",
   "metadata": {},
   "outputs": [],
   "source": [
    "import pandas as pd\n",
    "import numpy as np\n",
    "import matplotlib.pyplot as plt\n",
    "import seaborn as sns\n",
    "from sklearn.model_selection import train_test_split\n",
    "from sklearn.metrics import mean_squared_error as MSE\n"
   ]
  },
  {
   "cell_type": "code",
   "execution_count": 2,
   "id": "5bbc2cba",
   "metadata": {},
   "outputs": [
    {
     "name": "stdout",
     "output_type": "stream",
     "text": [
      "Requirement already satisfied: lightgbm in /Users/bakolas/opt/anaconda3/envs/geopandas/lib/python3.7/site-packages (3.3.2)\n",
      "Requirement already satisfied: numpy in /Users/bakolas/opt/anaconda3/envs/geopandas/lib/python3.7/site-packages (from lightgbm) (1.21.2)\n",
      "Requirement already satisfied: wheel in /Users/bakolas/opt/anaconda3/envs/geopandas/lib/python3.7/site-packages (from lightgbm) (0.37.1)\n",
      "Requirement already satisfied: scipy in /Users/bakolas/opt/anaconda3/envs/geopandas/lib/python3.7/site-packages (from lightgbm) (1.7.3)\n",
      "Requirement already satisfied: scikit-learn!=0.22.0 in /Users/bakolas/opt/anaconda3/envs/geopandas/lib/python3.7/site-packages (from lightgbm) (1.0.2)\n",
      "Requirement already satisfied: threadpoolctl>=2.0.0 in /Users/bakolas/opt/anaconda3/envs/geopandas/lib/python3.7/site-packages (from scikit-learn!=0.22.0->lightgbm) (2.2.0)\n",
      "Requirement already satisfied: joblib>=0.11 in /Users/bakolas/opt/anaconda3/envs/geopandas/lib/python3.7/site-packages (from scikit-learn!=0.22.0->lightgbm) (1.1.0)\n",
      "Note: you may need to restart the kernel to use updated packages.\n"
     ]
    }
   ],
   "source": [
    "pip install lightgbm"
   ]
  },
  {
   "cell_type": "code",
   "execution_count": 3,
   "id": "13421051",
   "metadata": {},
   "outputs": [],
   "source": [
    "#pip install sklearn"
   ]
  },
  {
   "cell_type": "code",
   "execution_count": 4,
   "id": "bc394c8b",
   "metadata": {},
   "outputs": [],
   "source": [
    "#pip install xgboost"
   ]
  },
  {
   "cell_type": "code",
   "execution_count": 5,
   "id": "d7b4185f",
   "metadata": {},
   "outputs": [],
   "source": [
    "#read the data\n",
    "houses= pd.read_csv('./Data/train.csv') "
   ]
  },
  {
   "cell_type": "code",
   "execution_count": 6,
   "id": "012e8fcc",
   "metadata": {},
   "outputs": [
    {
     "data": {
      "text/html": [
       "<div>\n",
       "<style scoped>\n",
       "    .dataframe tbody tr th:only-of-type {\n",
       "        vertical-align: middle;\n",
       "    }\n",
       "\n",
       "    .dataframe tbody tr th {\n",
       "        vertical-align: top;\n",
       "    }\n",
       "\n",
       "    .dataframe thead th {\n",
       "        text-align: right;\n",
       "    }\n",
       "</style>\n",
       "<table border=\"1\" class=\"dataframe\">\n",
       "  <thead>\n",
       "    <tr style=\"text-align: right;\">\n",
       "      <th></th>\n",
       "      <th>Id</th>\n",
       "      <th>MSSubClass</th>\n",
       "      <th>MSZoning</th>\n",
       "      <th>LotFrontage</th>\n",
       "      <th>LotArea</th>\n",
       "      <th>Street</th>\n",
       "      <th>Alley</th>\n",
       "      <th>LotShape</th>\n",
       "      <th>LandContour</th>\n",
       "      <th>Utilities</th>\n",
       "      <th>...</th>\n",
       "      <th>PoolArea</th>\n",
       "      <th>PoolQC</th>\n",
       "      <th>Fence</th>\n",
       "      <th>MiscFeature</th>\n",
       "      <th>MiscVal</th>\n",
       "      <th>MoSold</th>\n",
       "      <th>YrSold</th>\n",
       "      <th>SaleType</th>\n",
       "      <th>SaleCondition</th>\n",
       "      <th>SalePrice</th>\n",
       "    </tr>\n",
       "  </thead>\n",
       "  <tbody>\n",
       "    <tr>\n",
       "      <th>0</th>\n",
       "      <td>1</td>\n",
       "      <td>60</td>\n",
       "      <td>RL</td>\n",
       "      <td>65.0</td>\n",
       "      <td>8450</td>\n",
       "      <td>Pave</td>\n",
       "      <td>NaN</td>\n",
       "      <td>Reg</td>\n",
       "      <td>Lvl</td>\n",
       "      <td>AllPub</td>\n",
       "      <td>...</td>\n",
       "      <td>0</td>\n",
       "      <td>NaN</td>\n",
       "      <td>NaN</td>\n",
       "      <td>NaN</td>\n",
       "      <td>0</td>\n",
       "      <td>2</td>\n",
       "      <td>2008</td>\n",
       "      <td>WD</td>\n",
       "      <td>Normal</td>\n",
       "      <td>208500</td>\n",
       "    </tr>\n",
       "    <tr>\n",
       "      <th>1</th>\n",
       "      <td>2</td>\n",
       "      <td>20</td>\n",
       "      <td>RL</td>\n",
       "      <td>80.0</td>\n",
       "      <td>9600</td>\n",
       "      <td>Pave</td>\n",
       "      <td>NaN</td>\n",
       "      <td>Reg</td>\n",
       "      <td>Lvl</td>\n",
       "      <td>AllPub</td>\n",
       "      <td>...</td>\n",
       "      <td>0</td>\n",
       "      <td>NaN</td>\n",
       "      <td>NaN</td>\n",
       "      <td>NaN</td>\n",
       "      <td>0</td>\n",
       "      <td>5</td>\n",
       "      <td>2007</td>\n",
       "      <td>WD</td>\n",
       "      <td>Normal</td>\n",
       "      <td>181500</td>\n",
       "    </tr>\n",
       "    <tr>\n",
       "      <th>2</th>\n",
       "      <td>3</td>\n",
       "      <td>60</td>\n",
       "      <td>RL</td>\n",
       "      <td>68.0</td>\n",
       "      <td>11250</td>\n",
       "      <td>Pave</td>\n",
       "      <td>NaN</td>\n",
       "      <td>IR1</td>\n",
       "      <td>Lvl</td>\n",
       "      <td>AllPub</td>\n",
       "      <td>...</td>\n",
       "      <td>0</td>\n",
       "      <td>NaN</td>\n",
       "      <td>NaN</td>\n",
       "      <td>NaN</td>\n",
       "      <td>0</td>\n",
       "      <td>9</td>\n",
       "      <td>2008</td>\n",
       "      <td>WD</td>\n",
       "      <td>Normal</td>\n",
       "      <td>223500</td>\n",
       "    </tr>\n",
       "    <tr>\n",
       "      <th>3</th>\n",
       "      <td>4</td>\n",
       "      <td>70</td>\n",
       "      <td>RL</td>\n",
       "      <td>60.0</td>\n",
       "      <td>9550</td>\n",
       "      <td>Pave</td>\n",
       "      <td>NaN</td>\n",
       "      <td>IR1</td>\n",
       "      <td>Lvl</td>\n",
       "      <td>AllPub</td>\n",
       "      <td>...</td>\n",
       "      <td>0</td>\n",
       "      <td>NaN</td>\n",
       "      <td>NaN</td>\n",
       "      <td>NaN</td>\n",
       "      <td>0</td>\n",
       "      <td>2</td>\n",
       "      <td>2006</td>\n",
       "      <td>WD</td>\n",
       "      <td>Abnorml</td>\n",
       "      <td>140000</td>\n",
       "    </tr>\n",
       "    <tr>\n",
       "      <th>4</th>\n",
       "      <td>5</td>\n",
       "      <td>60</td>\n",
       "      <td>RL</td>\n",
       "      <td>84.0</td>\n",
       "      <td>14260</td>\n",
       "      <td>Pave</td>\n",
       "      <td>NaN</td>\n",
       "      <td>IR1</td>\n",
       "      <td>Lvl</td>\n",
       "      <td>AllPub</td>\n",
       "      <td>...</td>\n",
       "      <td>0</td>\n",
       "      <td>NaN</td>\n",
       "      <td>NaN</td>\n",
       "      <td>NaN</td>\n",
       "      <td>0</td>\n",
       "      <td>12</td>\n",
       "      <td>2008</td>\n",
       "      <td>WD</td>\n",
       "      <td>Normal</td>\n",
       "      <td>250000</td>\n",
       "    </tr>\n",
       "    <tr>\n",
       "      <th>...</th>\n",
       "      <td>...</td>\n",
       "      <td>...</td>\n",
       "      <td>...</td>\n",
       "      <td>...</td>\n",
       "      <td>...</td>\n",
       "      <td>...</td>\n",
       "      <td>...</td>\n",
       "      <td>...</td>\n",
       "      <td>...</td>\n",
       "      <td>...</td>\n",
       "      <td>...</td>\n",
       "      <td>...</td>\n",
       "      <td>...</td>\n",
       "      <td>...</td>\n",
       "      <td>...</td>\n",
       "      <td>...</td>\n",
       "      <td>...</td>\n",
       "      <td>...</td>\n",
       "      <td>...</td>\n",
       "      <td>...</td>\n",
       "      <td>...</td>\n",
       "    </tr>\n",
       "    <tr>\n",
       "      <th>1455</th>\n",
       "      <td>1456</td>\n",
       "      <td>60</td>\n",
       "      <td>RL</td>\n",
       "      <td>62.0</td>\n",
       "      <td>7917</td>\n",
       "      <td>Pave</td>\n",
       "      <td>NaN</td>\n",
       "      <td>Reg</td>\n",
       "      <td>Lvl</td>\n",
       "      <td>AllPub</td>\n",
       "      <td>...</td>\n",
       "      <td>0</td>\n",
       "      <td>NaN</td>\n",
       "      <td>NaN</td>\n",
       "      <td>NaN</td>\n",
       "      <td>0</td>\n",
       "      <td>8</td>\n",
       "      <td>2007</td>\n",
       "      <td>WD</td>\n",
       "      <td>Normal</td>\n",
       "      <td>175000</td>\n",
       "    </tr>\n",
       "    <tr>\n",
       "      <th>1456</th>\n",
       "      <td>1457</td>\n",
       "      <td>20</td>\n",
       "      <td>RL</td>\n",
       "      <td>85.0</td>\n",
       "      <td>13175</td>\n",
       "      <td>Pave</td>\n",
       "      <td>NaN</td>\n",
       "      <td>Reg</td>\n",
       "      <td>Lvl</td>\n",
       "      <td>AllPub</td>\n",
       "      <td>...</td>\n",
       "      <td>0</td>\n",
       "      <td>NaN</td>\n",
       "      <td>MnPrv</td>\n",
       "      <td>NaN</td>\n",
       "      <td>0</td>\n",
       "      <td>2</td>\n",
       "      <td>2010</td>\n",
       "      <td>WD</td>\n",
       "      <td>Normal</td>\n",
       "      <td>210000</td>\n",
       "    </tr>\n",
       "    <tr>\n",
       "      <th>1457</th>\n",
       "      <td>1458</td>\n",
       "      <td>70</td>\n",
       "      <td>RL</td>\n",
       "      <td>66.0</td>\n",
       "      <td>9042</td>\n",
       "      <td>Pave</td>\n",
       "      <td>NaN</td>\n",
       "      <td>Reg</td>\n",
       "      <td>Lvl</td>\n",
       "      <td>AllPub</td>\n",
       "      <td>...</td>\n",
       "      <td>0</td>\n",
       "      <td>NaN</td>\n",
       "      <td>GdPrv</td>\n",
       "      <td>Shed</td>\n",
       "      <td>2500</td>\n",
       "      <td>5</td>\n",
       "      <td>2010</td>\n",
       "      <td>WD</td>\n",
       "      <td>Normal</td>\n",
       "      <td>266500</td>\n",
       "    </tr>\n",
       "    <tr>\n",
       "      <th>1458</th>\n",
       "      <td>1459</td>\n",
       "      <td>20</td>\n",
       "      <td>RL</td>\n",
       "      <td>68.0</td>\n",
       "      <td>9717</td>\n",
       "      <td>Pave</td>\n",
       "      <td>NaN</td>\n",
       "      <td>Reg</td>\n",
       "      <td>Lvl</td>\n",
       "      <td>AllPub</td>\n",
       "      <td>...</td>\n",
       "      <td>0</td>\n",
       "      <td>NaN</td>\n",
       "      <td>NaN</td>\n",
       "      <td>NaN</td>\n",
       "      <td>0</td>\n",
       "      <td>4</td>\n",
       "      <td>2010</td>\n",
       "      <td>WD</td>\n",
       "      <td>Normal</td>\n",
       "      <td>142125</td>\n",
       "    </tr>\n",
       "    <tr>\n",
       "      <th>1459</th>\n",
       "      <td>1460</td>\n",
       "      <td>20</td>\n",
       "      <td>RL</td>\n",
       "      <td>75.0</td>\n",
       "      <td>9937</td>\n",
       "      <td>Pave</td>\n",
       "      <td>NaN</td>\n",
       "      <td>Reg</td>\n",
       "      <td>Lvl</td>\n",
       "      <td>AllPub</td>\n",
       "      <td>...</td>\n",
       "      <td>0</td>\n",
       "      <td>NaN</td>\n",
       "      <td>NaN</td>\n",
       "      <td>NaN</td>\n",
       "      <td>0</td>\n",
       "      <td>6</td>\n",
       "      <td>2008</td>\n",
       "      <td>WD</td>\n",
       "      <td>Normal</td>\n",
       "      <td>147500</td>\n",
       "    </tr>\n",
       "  </tbody>\n",
       "</table>\n",
       "<p>1460 rows × 81 columns</p>\n",
       "</div>"
      ],
      "text/plain": [
       "        Id  MSSubClass MSZoning  LotFrontage  LotArea Street Alley LotShape  \\\n",
       "0        1          60       RL         65.0     8450   Pave   NaN      Reg   \n",
       "1        2          20       RL         80.0     9600   Pave   NaN      Reg   \n",
       "2        3          60       RL         68.0    11250   Pave   NaN      IR1   \n",
       "3        4          70       RL         60.0     9550   Pave   NaN      IR1   \n",
       "4        5          60       RL         84.0    14260   Pave   NaN      IR1   \n",
       "...    ...         ...      ...          ...      ...    ...   ...      ...   \n",
       "1455  1456          60       RL         62.0     7917   Pave   NaN      Reg   \n",
       "1456  1457          20       RL         85.0    13175   Pave   NaN      Reg   \n",
       "1457  1458          70       RL         66.0     9042   Pave   NaN      Reg   \n",
       "1458  1459          20       RL         68.0     9717   Pave   NaN      Reg   \n",
       "1459  1460          20       RL         75.0     9937   Pave   NaN      Reg   \n",
       "\n",
       "     LandContour Utilities  ... PoolArea PoolQC  Fence MiscFeature MiscVal  \\\n",
       "0            Lvl    AllPub  ...        0    NaN    NaN         NaN       0   \n",
       "1            Lvl    AllPub  ...        0    NaN    NaN         NaN       0   \n",
       "2            Lvl    AllPub  ...        0    NaN    NaN         NaN       0   \n",
       "3            Lvl    AllPub  ...        0    NaN    NaN         NaN       0   \n",
       "4            Lvl    AllPub  ...        0    NaN    NaN         NaN       0   \n",
       "...          ...       ...  ...      ...    ...    ...         ...     ...   \n",
       "1455         Lvl    AllPub  ...        0    NaN    NaN         NaN       0   \n",
       "1456         Lvl    AllPub  ...        0    NaN  MnPrv         NaN       0   \n",
       "1457         Lvl    AllPub  ...        0    NaN  GdPrv        Shed    2500   \n",
       "1458         Lvl    AllPub  ...        0    NaN    NaN         NaN       0   \n",
       "1459         Lvl    AllPub  ...        0    NaN    NaN         NaN       0   \n",
       "\n",
       "     MoSold YrSold  SaleType  SaleCondition  SalePrice  \n",
       "0         2   2008        WD         Normal     208500  \n",
       "1         5   2007        WD         Normal     181500  \n",
       "2         9   2008        WD         Normal     223500  \n",
       "3         2   2006        WD        Abnorml     140000  \n",
       "4        12   2008        WD         Normal     250000  \n",
       "...     ...    ...       ...            ...        ...  \n",
       "1455      8   2007        WD         Normal     175000  \n",
       "1456      2   2010        WD         Normal     210000  \n",
       "1457      5   2010        WD         Normal     266500  \n",
       "1458      4   2010        WD         Normal     142125  \n",
       "1459      6   2008        WD         Normal     147500  \n",
       "\n",
       "[1460 rows x 81 columns]"
      ]
     },
     "execution_count": 6,
     "metadata": {},
     "output_type": "execute_result"
    }
   ],
   "source": [
    "#see the data\n",
    "houses"
   ]
  },
  {
   "cell_type": "code",
   "execution_count": 7,
   "id": "44413225",
   "metadata": {},
   "outputs": [
    {
     "name": "stdout",
     "output_type": "stream",
     "text": [
      "<class 'pandas.core.frame.DataFrame'>\n",
      "RangeIndex: 1460 entries, 0 to 1459\n",
      "Data columns (total 81 columns):\n",
      " #   Column         Non-Null Count  Dtype  \n",
      "---  ------         --------------  -----  \n",
      " 0   Id             1460 non-null   int64  \n",
      " 1   MSSubClass     1460 non-null   int64  \n",
      " 2   MSZoning       1460 non-null   object \n",
      " 3   LotFrontage    1201 non-null   float64\n",
      " 4   LotArea        1460 non-null   int64  \n",
      " 5   Street         1460 non-null   object \n",
      " 6   Alley          91 non-null     object \n",
      " 7   LotShape       1460 non-null   object \n",
      " 8   LandContour    1460 non-null   object \n",
      " 9   Utilities      1460 non-null   object \n",
      " 10  LotConfig      1460 non-null   object \n",
      " 11  LandSlope      1460 non-null   object \n",
      " 12  Neighborhood   1460 non-null   object \n",
      " 13  Condition1     1460 non-null   object \n",
      " 14  Condition2     1460 non-null   object \n",
      " 15  BldgType       1460 non-null   object \n",
      " 16  HouseStyle     1460 non-null   object \n",
      " 17  OverallQual    1460 non-null   int64  \n",
      " 18  OverallCond    1460 non-null   int64  \n",
      " 19  YearBuilt      1460 non-null   int64  \n",
      " 20  YearRemodAdd   1460 non-null   int64  \n",
      " 21  RoofStyle      1460 non-null   object \n",
      " 22  RoofMatl       1460 non-null   object \n",
      " 23  Exterior1st    1460 non-null   object \n",
      " 24  Exterior2nd    1460 non-null   object \n",
      " 25  MasVnrType     1452 non-null   object \n",
      " 26  MasVnrArea     1452 non-null   float64\n",
      " 27  ExterQual      1460 non-null   object \n",
      " 28  ExterCond      1460 non-null   object \n",
      " 29  Foundation     1460 non-null   object \n",
      " 30  BsmtQual       1423 non-null   object \n",
      " 31  BsmtCond       1423 non-null   object \n",
      " 32  BsmtExposure   1422 non-null   object \n",
      " 33  BsmtFinType1   1423 non-null   object \n",
      " 34  BsmtFinSF1     1460 non-null   int64  \n",
      " 35  BsmtFinType2   1422 non-null   object \n",
      " 36  BsmtFinSF2     1460 non-null   int64  \n",
      " 37  BsmtUnfSF      1460 non-null   int64  \n",
      " 38  TotalBsmtSF    1460 non-null   int64  \n",
      " 39  Heating        1460 non-null   object \n",
      " 40  HeatingQC      1460 non-null   object \n",
      " 41  CentralAir     1460 non-null   object \n",
      " 42  Electrical     1459 non-null   object \n",
      " 43  1stFlrSF       1460 non-null   int64  \n",
      " 44  2ndFlrSF       1460 non-null   int64  \n",
      " 45  LowQualFinSF   1460 non-null   int64  \n",
      " 46  GrLivArea      1460 non-null   int64  \n",
      " 47  BsmtFullBath   1460 non-null   int64  \n",
      " 48  BsmtHalfBath   1460 non-null   int64  \n",
      " 49  FullBath       1460 non-null   int64  \n",
      " 50  HalfBath       1460 non-null   int64  \n",
      " 51  BedroomAbvGr   1460 non-null   int64  \n",
      " 52  KitchenAbvGr   1460 non-null   int64  \n",
      " 53  KitchenQual    1460 non-null   object \n",
      " 54  TotRmsAbvGrd   1460 non-null   int64  \n",
      " 55  Functional     1460 non-null   object \n",
      " 56  Fireplaces     1460 non-null   int64  \n",
      " 57  FireplaceQu    770 non-null    object \n",
      " 58  GarageType     1379 non-null   object \n",
      " 59  GarageYrBlt    1379 non-null   float64\n",
      " 60  GarageFinish   1379 non-null   object \n",
      " 61  GarageCars     1460 non-null   int64  \n",
      " 62  GarageArea     1460 non-null   int64  \n",
      " 63  GarageQual     1379 non-null   object \n",
      " 64  GarageCond     1379 non-null   object \n",
      " 65  PavedDrive     1460 non-null   object \n",
      " 66  WoodDeckSF     1460 non-null   int64  \n",
      " 67  OpenPorchSF    1460 non-null   int64  \n",
      " 68  EnclosedPorch  1460 non-null   int64  \n",
      " 69  3SsnPorch      1460 non-null   int64  \n",
      " 70  ScreenPorch    1460 non-null   int64  \n",
      " 71  PoolArea       1460 non-null   int64  \n",
      " 72  PoolQC         7 non-null      object \n",
      " 73  Fence          281 non-null    object \n",
      " 74  MiscFeature    54 non-null     object \n",
      " 75  MiscVal        1460 non-null   int64  \n",
      " 76  MoSold         1460 non-null   int64  \n",
      " 77  YrSold         1460 non-null   int64  \n",
      " 78  SaleType       1460 non-null   object \n",
      " 79  SaleCondition  1460 non-null   object \n",
      " 80  SalePrice      1460 non-null   int64  \n",
      "dtypes: float64(3), int64(35), object(43)\n",
      "memory usage: 924.0+ KB\n"
     ]
    }
   ],
   "source": [
    "houses.info()"
   ]
  },
  {
   "cell_type": "code",
   "execution_count": 8,
   "id": "064b5a02",
   "metadata": {
    "scrolled": false
   },
   "outputs": [
    {
     "data": {
      "text/plain": [
       "LotFrontage      259\n",
       "Alley           1369\n",
       "MasVnrType         8\n",
       "MasVnrArea         8\n",
       "BsmtQual          37\n",
       "BsmtCond          37\n",
       "BsmtExposure      38\n",
       "BsmtFinType1      37\n",
       "BsmtFinType2      38\n",
       "Electrical         1\n",
       "FireplaceQu      690\n",
       "GarageType        81\n",
       "GarageYrBlt       81\n",
       "GarageFinish      81\n",
       "GarageQual        81\n",
       "GarageCond        81\n",
       "PoolQC          1453\n",
       "Fence           1179\n",
       "MiscFeature     1406\n",
       "dtype: int64"
      ]
     },
     "execution_count": 8,
     "metadata": {},
     "output_type": "execute_result"
    }
   ],
   "source": [
    "#lets see if there are any columns with missing values \n",
    "null_columns=houses.columns[houses.isnull().any()]\n",
    "houses[null_columns].isnull().sum()"
   ]
  },
  {
   "cell_type": "code",
   "execution_count": 9,
   "id": "c5bc818e",
   "metadata": {},
   "outputs": [],
   "source": [
    "StreetDict =   {'Grvl':0,\n",
    "                \"Pave\":1,\n",
    "                }\n",
    "houses['Ordinal_Street'] = houses.Street.map(StreetDict)\n",
    "\n",
    "houses = houses.drop('Street', axis = 1)"
   ]
  },
  {
   "cell_type": "code",
   "execution_count": 10,
   "id": "1e31e8e9",
   "metadata": {},
   "outputs": [],
   "source": [
    "#Converted Alley to binary. Since most streets had no alley access.\n",
    "AlleyDict =   {'Grvl':1,\n",
    "                \"Pave\":1,\n",
    "               0:0\n",
    "                }\n",
    "\n",
    "houses['Alley'].fillna(0, inplace = True)\n",
    "\n",
    "houses['Binary_Alley'] = houses.Alley.map(AlleyDict)\n",
    "\n",
    "houses = houses.drop('Alley', axis = 1)"
   ]
  },
  {
   "cell_type": "code",
   "execution_count": 11,
   "id": "3c6b8129",
   "metadata": {},
   "outputs": [],
   "source": [
    "#Change BsmtCond to ordinal Data, also NA meant no basement we replaced those with the mean\n",
    "#Because no basement is not necessarily worse than other conditions.\n",
    "BsmtCondDict =   {'Ex':4,\n",
    "                  'Gd':3,\n",
    "                  'TA':2,\n",
    "                  \"Fa\":1,\n",
    "                  \"Po\":0,\n",
    "                }\n",
    "houses['Ordinal_BsmtCond'] = houses.BsmtCond.map(BsmtCondDict)\n",
    "houses['Ordinal_BsmtCond'].fillna(houses['Ordinal_BsmtCond'].mean(), inplace = True)\n",
    "      \n",
    "houses = houses.drop('BsmtCond', axis = 1)"
   ]
  },
  {
   "cell_type": "code",
   "execution_count": 12,
   "id": "e97d58e2",
   "metadata": {},
   "outputs": [],
   "source": [
    "ExterQualDict =   {'Ex':4,\n",
    "                  'Gd':3,\n",
    "                  'TA':2,\n",
    "                  \"Fa\":1,\n",
    "                  \"Po\":0,\n",
    "                }\n",
    "houses['Ordinal_ExterQual'] = houses.ExterQual.map(ExterQualDict)\n",
    "      \n",
    "houses = houses.drop('ExterQual', axis = 1)"
   ]
  },
  {
   "cell_type": "code",
   "execution_count": 13,
   "id": "95857965",
   "metadata": {},
   "outputs": [],
   "source": [
    "ExterCondDict =   {'Ex':4,\n",
    "                  'Gd':3,\n",
    "                  'TA':2,\n",
    "                  \"Fa\":1,\n",
    "                  \"Po\":0,\n",
    "                }\n",
    "houses['Ordinal_ExterCond'] = houses.ExterCond.map(ExterCondDict)\n",
    "      \n",
    "houses = houses.drop('ExterCond', axis = 1)"
   ]
  },
  {
   "cell_type": "code",
   "execution_count": 14,
   "id": "68be4b0f",
   "metadata": {},
   "outputs": [],
   "source": [
    "BsmtQualDict =   {'Ex':4,\n",
    "                  'Gd':3,\n",
    "                  'TA':2,\n",
    "                  \"Fa\":1,\n",
    "                  \"Po\":0,\n",
    "                 }\n",
    "houses['Ordinal_BsmtQual'] = houses.BsmtQual.map(BsmtQualDict)\n",
    "houses['Ordinal_BsmtQual'].fillna(houses['Ordinal_BsmtQual'].mean(), inplace = True)\n",
    "      \n",
    "houses = houses.drop('BsmtQual', axis = 1)"
   ]
  },
  {
   "cell_type": "code",
   "execution_count": 15,
   "id": "e182354c",
   "metadata": {},
   "outputs": [],
   "source": [
    "# No basement scores were recorded as Na, which was confused as null value.\n",
    "houses['BsmtExposure'].fillna(\"NoB\", inplace = True)\n",
    "houses['BsmtFinType1'].fillna(houses['BsmtFinType1'].mode(), inplace = True)\n",
    "houses['BsmtFinType2'].fillna(houses['BsmtFinType2'].mode(), inplace = True)"
   ]
  },
  {
   "cell_type": "code",
   "execution_count": 16,
   "id": "91b835b9",
   "metadata": {},
   "outputs": [],
   "source": [
    "HeatingQCDict =   {'Ex':4,\n",
    "                  'Gd':3,\n",
    "                  'TA':2,\n",
    "                  \"Fa\":1,\n",
    "                  \"Po\":0,\n",
    "                }\n",
    "houses['Ordinal_HeatingQC'] = houses.HeatingQC.map(HeatingQCDict)\n",
    "      \n",
    "houses = houses.drop('HeatingQC', axis = 1)"
   ]
  },
  {
   "cell_type": "code",
   "execution_count": 17,
   "id": "ce2f0dbe",
   "metadata": {},
   "outputs": [],
   "source": [
    "CentralAirDict = {'N':0,\n",
    "                 \"Y\":1,\n",
    "                 }\n",
    "houses['Binary_CentralAir'] = houses.CentralAir.map(CentralAirDict)\n",
    "\n",
    "houses = houses.drop('CentralAir', axis = 1)"
   ]
  },
  {
   "cell_type": "code",
   "execution_count": 18,
   "id": "97c7af88",
   "metadata": {},
   "outputs": [],
   "source": [
    "KitchenQualDict =   {'Ex':4,\n",
    "                  'Gd':3,\n",
    "                  'TA':2,\n",
    "                  \"Fa\":1,\n",
    "                  \"Po\":0,\n",
    "                }\n",
    "houses['Ordinal_KitchenQual'] = houses.KitchenQual.map(KitchenQualDict)\n",
    "      \n",
    "houses = houses.drop('KitchenQual', axis = 1)"
   ]
  },
  {
   "cell_type": "code",
   "execution_count": 19,
   "id": "488aedea",
   "metadata": {},
   "outputs": [],
   "source": [
    "FireplaceQuDict =   {'Ex':4,\n",
    "                  'Gd':3,\n",
    "                  'TA':2,\n",
    "                  \"Fa\":1,\n",
    "                  \"Po\":0,\n",
    "                 }\n",
    "houses['Ordinal_FireplaceQu'] = houses.FireplaceQu.map(FireplaceQuDict)\n",
    "houses['Ordinal_FireplaceQu'].fillna(houses['Ordinal_FireplaceQu'].mean(), inplace = True)\n",
    "      \n",
    "houses = houses.drop('FireplaceQu', axis = 1)"
   ]
  },
  {
   "cell_type": "code",
   "execution_count": 20,
   "id": "adb1c97e",
   "metadata": {},
   "outputs": [],
   "source": [
    "# NA means no garage.\n",
    "houses['GarageType'].fillna(\"NoG\", inplace = True)\n",
    "houses['GarageYrBlt'].fillna(houses['GarageYrBlt'].mode(), inplace = True)\n"
   ]
  },
  {
   "cell_type": "code",
   "execution_count": 21,
   "id": "0bbd533b",
   "metadata": {},
   "outputs": [],
   "source": [
    "GarageQualDict =   {'Ex':4,\n",
    "                  'Gd':3,\n",
    "                  'TA':2,\n",
    "                  \"Fa\":1,\n",
    "                  \"Po\":0,\n",
    "                 }\n",
    "houses['Ordinal_GarageQual'] = houses.GarageQual.map(GarageQualDict)\n",
    "houses['Ordinal_GarageQual'].fillna(houses['Ordinal_GarageQual'].mean(), inplace = True)\n",
    "      \n",
    "houses = houses.drop('GarageQual', axis = 1)"
   ]
  },
  {
   "cell_type": "code",
   "execution_count": 22,
   "id": "e9d3354d",
   "metadata": {},
   "outputs": [],
   "source": [
    "GarageCondDict =   {'Ex':4,\n",
    "                  'Gd':3,\n",
    "                  'TA':2,\n",
    "                  \"Fa\":1,\n",
    "                  \"Po\":0,\n",
    "                 }\n",
    "houses['Ordinal_GarageCond'] = houses.GarageCond.map(GarageCondDict)\n",
    "houses['Ordinal_GarageCond'].fillna(houses['Ordinal_GarageCond'].mean(), inplace = True)\n",
    "      \n",
    "houses = houses.drop('GarageCond', axis = 1)"
   ]
  },
  {
   "cell_type": "code",
   "execution_count": 23,
   "id": "b57572af",
   "metadata": {},
   "outputs": [],
   "source": [
    "#Converted Pool Quality to binary. Since most houses had no Pool\n",
    "PoolQCDict =   {'Ex':1,\n",
    "                  'Gd':1,\n",
    "                  'TA':1,\n",
    "                  \"Fa\":1,\n",
    "                0:0\n",
    "                }\n",
    "\n",
    "houses['PoolQC'].fillna(0, inplace = True)\n",
    "\n",
    "houses['Binary_PoolQC'] = houses.PoolQC.map(PoolQCDict)\n",
    "\n",
    "houses = houses.drop('PoolQC', axis = 1)"
   ]
  },
  {
   "cell_type": "code",
   "execution_count": 24,
   "id": "dd41b479",
   "metadata": {},
   "outputs": [],
   "source": [
    "# No fence scores were recorded as Na, which was confused as null value.\n",
    "houses['Fence'].fillna(\"NoF\", inplace = True)"
   ]
  },
  {
   "cell_type": "code",
   "execution_count": 25,
   "id": "c3dffb1a",
   "metadata": {},
   "outputs": [],
   "source": [
    "# No Masonry veneer type scores were recorded as Na, which was confused as null value.\n",
    "houses['MasVnrType'].fillna(\"None\", inplace = True)"
   ]
  },
  {
   "cell_type": "code",
   "execution_count": 26,
   "id": "584e8a91",
   "metadata": {},
   "outputs": [],
   "source": [
    "# No basement fin scores were recorded as Na, which was confused as null value.\n",
    "houses['Fence'].fillna(\"NoF\", inplace = True)"
   ]
  },
  {
   "cell_type": "code",
   "execution_count": 27,
   "id": "16cb6094",
   "metadata": {},
   "outputs": [],
   "source": [
    "#Converted Pool Quality to binary. Since most houses had no Pool\n",
    "MiscFeatureDict =   {'Elev':1,\n",
    "                  'Gar2':1,\n",
    "                  'Othr':1,\n",
    "                  \"Shed\":1,\n",
    "                  \"TenC\":1,\n",
    "                0:0\n",
    "                }\n",
    "\n",
    "houses['MiscFeature'].fillna(0, inplace = True)\n",
    "\n",
    "houses['Binary_MiscFeature'] = houses.MiscFeature.map(MiscFeatureDict)\n",
    "\n",
    "houses = houses.drop('MiscFeature', axis = 1)"
   ]
  },
  {
   "cell_type": "code",
   "execution_count": 28,
   "id": "b6da409d",
   "metadata": {},
   "outputs": [],
   "source": [
    "# Handle numeric Na values.\n",
    "houses['LotFrontage'].fillna(houses['LotFrontage'].mean(), inplace = True)\n",
    "houses['MasVnrArea'].fillna(houses['MasVnrArea'].mean(), inplace = True)\n",
    "houses['BsmtFinType1'].fillna(houses['BsmtFinType1'].mode(), inplace = True)\n",
    "houses['BsmtFinType2'].fillna(houses['BsmtFinType2'].mode(), inplace = True)\n",
    "houses['Electrical'].fillna(houses['Electrical'].mode(), inplace = True)\n",
    "houses['GarageYrBlt'].fillna(houses['GarageYrBlt'].mean(), inplace = True)\n",
    "houses['GarageFinish'].fillna(houses['GarageFinish'].mode(), inplace = True)\n"
   ]
  },
  {
   "cell_type": "code",
   "execution_count": 29,
   "id": "b7aad2b1",
   "metadata": {},
   "outputs": [],
   "source": [
    "# Do one hot encoding for the rest of the categorical features\n",
    "houses = pd.get_dummies(houses)\n",
    "houses = houses.drop('Id', axis = 1)"
   ]
  },
  {
   "cell_type": "code",
   "execution_count": 30,
   "id": "4d28d464",
   "metadata": {
    "scrolled": false
   },
   "outputs": [
    {
     "data": {
      "text/plain": [
       "Text(0.5, 6.79999999999999, 'Sale Price')"
      ]
     },
     "execution_count": 30,
     "metadata": {},
     "output_type": "execute_result"
    },
    {
     "data": {
      "image/png": "[encoded data removed]",
      "text/plain": [
       "<Figure size 360x360 with 1 Axes>"
      ]
     },
     "metadata": {
      "needs_background": "light"
     },
     "output_type": "display_data"
    }
   ],
   "source": [
    "#plot of the sale numbers due to price\n",
    "sns.displot(houses['SalePrice'], color=\"r\")\n",
    "plt.title(\"Distribution of Sale Price\")\n",
    "plt.ylabel(\"Number of Occurences\")\n",
    "plt.xlabel(\"Sale Price\")"
   ]
  },
  {
   "cell_type": "code",
   "execution_count": 31,
   "id": "8eed2ed5",
   "metadata": {},
   "outputs": [
    {
     "data": {
      "text/plain": [
       "SalePrice              1.000000\n",
       "OverallQual            0.790982\n",
       "GrLivArea              0.708624\n",
       "Ordinal_ExterQual      0.682639\n",
       "Ordinal_KitchenQual    0.659600\n",
       "                         ...   \n",
       "MSZoning_RM           -0.288065\n",
       "Foundation_CBlock     -0.343263\n",
       "GarageType_Detchd     -0.354141\n",
       "MasVnrType_None       -0.367456\n",
       "GarageFinish_Unf      -0.410608\n",
       "Name: SalePrice, Length: 252, dtype: float64"
      ]
     },
     "execution_count": 31,
     "metadata": {},
     "output_type": "execute_result"
    }
   ],
   "source": [
    "#finding corelations of features with SalePrice\n",
    "corr = houses.corr()['SalePrice']\n",
    "corr[np.argsort(corr, axis = 0)[::-1]]"
   ]
  },
  {
   "cell_type": "code",
   "execution_count": 32,
   "id": "7c5686ad",
   "metadata": {
    "scrolled": false
   },
   "outputs": [
    {
     "data": {
      "image/png": "[encoded data removed]",
      "text/plain": [
       "<Figure size 864x2880 with 1 Axes>"
      ]
     },
     "metadata": {
      "needs_background": "light"
     },
     "output_type": "display_data"
    }
   ],
   "source": [
    "#plotting correlations\n",
    "num_feat=houses.columns\n",
    "labels = []\n",
    "values = []\n",
    "for col in num_feat:\n",
    "    labels.append(col)\n",
    "    values.append(np.corrcoef(houses[col].values, houses.SalePrice.values)[0,1])\n",
    "    \n",
    "ind = np.arange(len(labels))\n",
    "width = 0.9\n",
    "fig, ax = plt.subplots(figsize=(12,40))\n",
    "rects = ax.barh(ind, np.array(values), color='red')\n",
    "ax.set_yticks(ind+((width)/2.))\n",
    "ax.set_yticklabels(labels, rotation='horizontal')\n",
    "ax.set_xlabel(\"Correlation coefficient\")\n",
    "ax.set_title(\"Correlation Coefficients w.r.t Sale Price\");"
   ]
  },
  {
   "cell_type": "code",
   "execution_count": 33,
   "id": "f0e5f9e2",
   "metadata": {},
   "outputs": [
    {
     "data": {
      "text/html": [
       "<div>\n",
       "<style scoped>\n",
       "    .dataframe tbody tr th:only-of-type {\n",
       "        vertical-align: middle;\n",
       "    }\n",
       "\n",
       "    .dataframe tbody tr th {\n",
       "        vertical-align: top;\n",
       "    }\n",
       "\n",
       "    .dataframe thead th {\n",
       "        text-align: right;\n",
       "    }\n",
       "</style>\n",
       "<table border=\"1\" class=\"dataframe\">\n",
       "  <thead>\n",
       "    <tr style=\"text-align: right;\">\n",
       "      <th></th>\n",
       "      <th>Attribute Pair</th>\n",
       "      <th>Correlation</th>\n",
       "    </tr>\n",
       "  </thead>\n",
       "  <tbody>\n",
       "    <tr>\n",
       "      <th>77</th>\n",
       "      <td>(Utilities_AllPub, Utilities_NoSeWa)</td>\n",
       "      <td>-1.000000</td>\n",
       "    </tr>\n",
       "    <tr>\n",
       "      <th>40</th>\n",
       "      <td>(Binary_PoolQC, PoolArea)</td>\n",
       "      <td>0.989665</td>\n",
       "    </tr>\n",
       "    <tr>\n",
       "      <th>96</th>\n",
       "      <td>(SaleCondition_Partial, SaleType_New)</td>\n",
       "      <td>0.986819</td>\n",
       "    </tr>\n",
       "    <tr>\n",
       "      <th>60</th>\n",
       "      <td>(Exterior1st_VinylSd, Exterior2nd_VinylSd)</td>\n",
       "      <td>0.977525</td>\n",
       "    </tr>\n",
       "    <tr>\n",
       "      <th>87</th>\n",
       "      <td>(Exterior1st_CemntBd, Exterior2nd_CmentBd)</td>\n",
       "      <td>0.974171</td>\n",
       "    </tr>\n",
       "    <tr>\n",
       "      <th>...</th>\n",
       "      <td>...</td>\n",
       "      <td>...</td>\n",
       "    </tr>\n",
       "    <tr>\n",
       "      <th>33</th>\n",
       "      <td>(GarageCars, Ordinal_KitchenQual)</td>\n",
       "      <td>0.509810</td>\n",
       "    </tr>\n",
       "    <tr>\n",
       "      <th>101</th>\n",
       "      <td>(SalePrice, YearRemodAdd)</td>\n",
       "      <td>0.507101</td>\n",
       "    </tr>\n",
       "    <tr>\n",
       "      <th>67</th>\n",
       "      <td>(Ordinal_HeatingQC, Ordinal_KitchenQual)</td>\n",
       "      <td>0.504228</td>\n",
       "    </tr>\n",
       "    <tr>\n",
       "      <th>94</th>\n",
       "      <td>(GarageYrBlt, Ordinal_KitchenQual)</td>\n",
       "      <td>0.503115</td>\n",
       "    </tr>\n",
       "    <tr>\n",
       "      <th>28</th>\n",
       "      <td>(2ndFlrSF, BedroomAbvGr)</td>\n",
       "      <td>0.502901</td>\n",
       "    </tr>\n",
       "  </tbody>\n",
       "</table>\n",
       "<p>148 rows × 2 columns</p>\n",
       "</div>"
      ],
      "text/plain": [
       "                                 Attribute Pair  Correlation\n",
       "77         (Utilities_AllPub, Utilities_NoSeWa)    -1.000000\n",
       "40                    (Binary_PoolQC, PoolArea)     0.989665\n",
       "96        (SaleCondition_Partial, SaleType_New)     0.986819\n",
       "60   (Exterior1st_VinylSd, Exterior2nd_VinylSd)     0.977525\n",
       "87   (Exterior1st_CemntBd, Exterior2nd_CmentBd)     0.974171\n",
       "..                                          ...          ...\n",
       "33            (GarageCars, Ordinal_KitchenQual)     0.509810\n",
       "101                   (SalePrice, YearRemodAdd)     0.507101\n",
       "67     (Ordinal_HeatingQC, Ordinal_KitchenQual)     0.504228\n",
       "94           (GarageYrBlt, Ordinal_KitchenQual)     0.503115\n",
       "28                     (2ndFlrSF, BedroomAbvGr)     0.502901\n",
       "\n",
       "[148 rows x 2 columns]"
      ]
     },
     "execution_count": 33,
     "metadata": {},
     "output_type": "execute_result"
    }
   ],
   "source": [
    "#detecting correlations between two feature which have correlation score above 0.5 \n",
    "\n",
    "correlations=houses.corr()\n",
    "attrs = correlations # all except target\n",
    "\n",
    "threshold = 0.5\n",
    "important_corrs = (attrs[abs(attrs) > threshold][attrs != 1.0]).unstack().dropna().to_dict()\n",
    "\n",
    "unique_important_corrs = pd.DataFrame(\n",
    "    list(set([(tuple(sorted(key)), important_corrs[key])\n",
    "    for key in important_corrs])), \n",
    "        columns=['Attribute Pair', 'Correlation'])\n",
    "\n",
    "    # sorted by absolute value\n",
    "unique_important_corrs = unique_important_corrs.loc[\n",
    "    abs(unique_important_corrs['Correlation']).argsort()[::-1]]\n",
    "\n",
    "unique_important_corrs"
   ]
  },
  {
   "cell_type": "code",
   "execution_count": 34,
   "id": "b229243a",
   "metadata": {},
   "outputs": [
    {
     "data": {
      "text/html": [
       "<div>\n",
       "<style scoped>\n",
       "    .dataframe tbody tr th:only-of-type {\n",
       "        vertical-align: middle;\n",
       "    }\n",
       "\n",
       "    .dataframe tbody tr th {\n",
       "        vertical-align: top;\n",
       "    }\n",
       "\n",
       "    .dataframe thead th {\n",
       "        text-align: right;\n",
       "    }\n",
       "</style>\n",
       "<table border=\"1\" class=\"dataframe\">\n",
       "  <thead>\n",
       "    <tr style=\"text-align: right;\">\n",
       "      <th></th>\n",
       "      <th>OverallQual</th>\n",
       "      <th>SalePrice</th>\n",
       "    </tr>\n",
       "  </thead>\n",
       "  <tbody>\n",
       "    <tr>\n",
       "      <th>9</th>\n",
       "      <td>10</td>\n",
       "      <td>438588.388889</td>\n",
       "    </tr>\n",
       "    <tr>\n",
       "      <th>8</th>\n",
       "      <td>9</td>\n",
       "      <td>367513.023256</td>\n",
       "    </tr>\n",
       "    <tr>\n",
       "      <th>7</th>\n",
       "      <td>8</td>\n",
       "      <td>274735.535714</td>\n",
       "    </tr>\n",
       "    <tr>\n",
       "      <th>6</th>\n",
       "      <td>7</td>\n",
       "      <td>207716.423197</td>\n",
       "    </tr>\n",
       "    <tr>\n",
       "      <th>5</th>\n",
       "      <td>6</td>\n",
       "      <td>161603.034759</td>\n",
       "    </tr>\n",
       "    <tr>\n",
       "      <th>4</th>\n",
       "      <td>5</td>\n",
       "      <td>133523.347607</td>\n",
       "    </tr>\n",
       "    <tr>\n",
       "      <th>3</th>\n",
       "      <td>4</td>\n",
       "      <td>108420.655172</td>\n",
       "    </tr>\n",
       "    <tr>\n",
       "      <th>2</th>\n",
       "      <td>3</td>\n",
       "      <td>87473.750000</td>\n",
       "    </tr>\n",
       "    <tr>\n",
       "      <th>1</th>\n",
       "      <td>2</td>\n",
       "      <td>51770.333333</td>\n",
       "    </tr>\n",
       "    <tr>\n",
       "      <th>0</th>\n",
       "      <td>1</td>\n",
       "      <td>50150.000000</td>\n",
       "    </tr>\n",
       "  </tbody>\n",
       "</table>\n",
       "</div>"
      ],
      "text/plain": [
       "   OverallQual      SalePrice\n",
       "9           10  438588.388889\n",
       "8            9  367513.023256\n",
       "7            8  274735.535714\n",
       "6            7  207716.423197\n",
       "5            6  161603.034759\n",
       "4            5  133523.347607\n",
       "3            4  108420.655172\n",
       "2            3   87473.750000\n",
       "1            2   51770.333333\n",
       "0            1   50150.000000"
      ]
     },
     "execution_count": 34,
     "metadata": {},
     "output_type": "execute_result"
    }
   ],
   "source": [
    "#see the corelations of OverallQual and SalePrice\n",
    "houses[['OverallQual','SalePrice']].groupby(['OverallQual'],\n",
    "as_index=False).mean().sort_values(by='OverallQual', ascending=False)"
   ]
  },
  {
   "cell_type": "code",
   "execution_count": 35,
   "id": "b161c305",
   "metadata": {},
   "outputs": [
    {
     "data": {
      "text/html": [
       "<div>\n",
       "<style scoped>\n",
       "    .dataframe tbody tr th:only-of-type {\n",
       "        vertical-align: middle;\n",
       "    }\n",
       "\n",
       "    .dataframe tbody tr th {\n",
       "        vertical-align: top;\n",
       "    }\n",
       "\n",
       "    .dataframe thead th {\n",
       "        text-align: right;\n",
       "    }\n",
       "</style>\n",
       "<table border=\"1\" class=\"dataframe\">\n",
       "  <thead>\n",
       "    <tr style=\"text-align: right;\">\n",
       "      <th></th>\n",
       "      <th>TotRmsAbvGrd</th>\n",
       "      <th>SalePrice</th>\n",
       "    </tr>\n",
       "  </thead>\n",
       "  <tbody>\n",
       "    <tr>\n",
       "      <th>11</th>\n",
       "      <td>14</td>\n",
       "      <td>200000.000000</td>\n",
       "    </tr>\n",
       "    <tr>\n",
       "      <th>10</th>\n",
       "      <td>12</td>\n",
       "      <td>280971.454545</td>\n",
       "    </tr>\n",
       "    <tr>\n",
       "      <th>9</th>\n",
       "      <td>11</td>\n",
       "      <td>318022.000000</td>\n",
       "    </tr>\n",
       "    <tr>\n",
       "      <th>8</th>\n",
       "      <td>10</td>\n",
       "      <td>296279.170213</td>\n",
       "    </tr>\n",
       "    <tr>\n",
       "      <th>7</th>\n",
       "      <td>9</td>\n",
       "      <td>252988.173333</td>\n",
       "    </tr>\n",
       "    <tr>\n",
       "      <th>6</th>\n",
       "      <td>8</td>\n",
       "      <td>213427.529412</td>\n",
       "    </tr>\n",
       "    <tr>\n",
       "      <th>5</th>\n",
       "      <td>7</td>\n",
       "      <td>196666.784195</td>\n",
       "    </tr>\n",
       "    <tr>\n",
       "      <th>4</th>\n",
       "      <td>6</td>\n",
       "      <td>161303.296020</td>\n",
       "    </tr>\n",
       "    <tr>\n",
       "      <th>3</th>\n",
       "      <td>5</td>\n",
       "      <td>141550.749091</td>\n",
       "    </tr>\n",
       "    <tr>\n",
       "      <th>2</th>\n",
       "      <td>4</td>\n",
       "      <td>122844.628866</td>\n",
       "    </tr>\n",
       "    <tr>\n",
       "      <th>1</th>\n",
       "      <td>3</td>\n",
       "      <td>111217.647059</td>\n",
       "    </tr>\n",
       "    <tr>\n",
       "      <th>0</th>\n",
       "      <td>2</td>\n",
       "      <td>39300.000000</td>\n",
       "    </tr>\n",
       "  </tbody>\n",
       "</table>\n",
       "</div>"
      ],
      "text/plain": [
       "    TotRmsAbvGrd      SalePrice\n",
       "11            14  200000.000000\n",
       "10            12  280971.454545\n",
       "9             11  318022.000000\n",
       "8             10  296279.170213\n",
       "7              9  252988.173333\n",
       "6              8  213427.529412\n",
       "5              7  196666.784195\n",
       "4              6  161303.296020\n",
       "3              5  141550.749091\n",
       "2              4  122844.628866\n",
       "1              3  111217.647059\n",
       "0              2   39300.000000"
      ]
     },
     "execution_count": 35,
     "metadata": {},
     "output_type": "execute_result"
    }
   ],
   "source": [
    "#see the corelations of TotRmsAbvGrd and SalePrice\n",
    "houses[['TotRmsAbvGrd','SalePrice']].groupby(['TotRmsAbvGrd'],\n",
    "as_index=False).mean().sort_values(by='TotRmsAbvGrd', ascending=False)"
   ]
  },
  {
   "cell_type": "code",
   "execution_count": 36,
   "id": "fda0db93",
   "metadata": {
    "scrolled": true
   },
   "outputs": [
    {
     "data": {
      "text/html": [
       "<div>\n",
       "<style scoped>\n",
       "    .dataframe tbody tr th:only-of-type {\n",
       "        vertical-align: middle;\n",
       "    }\n",
       "\n",
       "    .dataframe tbody tr th {\n",
       "        vertical-align: top;\n",
       "    }\n",
       "\n",
       "    .dataframe thead th {\n",
       "        text-align: right;\n",
       "    }\n",
       "</style>\n",
       "<table border=\"1\" class=\"dataframe\">\n",
       "  <thead>\n",
       "    <tr style=\"text-align: right;\">\n",
       "      <th></th>\n",
       "      <th>GarageCars</th>\n",
       "      <th>SalePrice</th>\n",
       "    </tr>\n",
       "  </thead>\n",
       "  <tbody>\n",
       "    <tr>\n",
       "      <th>4</th>\n",
       "      <td>4</td>\n",
       "      <td>192655.800000</td>\n",
       "    </tr>\n",
       "    <tr>\n",
       "      <th>3</th>\n",
       "      <td>3</td>\n",
       "      <td>309636.121547</td>\n",
       "    </tr>\n",
       "    <tr>\n",
       "      <th>2</th>\n",
       "      <td>2</td>\n",
       "      <td>183851.663835</td>\n",
       "    </tr>\n",
       "    <tr>\n",
       "      <th>1</th>\n",
       "      <td>1</td>\n",
       "      <td>128116.688347</td>\n",
       "    </tr>\n",
       "    <tr>\n",
       "      <th>0</th>\n",
       "      <td>0</td>\n",
       "      <td>103317.283951</td>\n",
       "    </tr>\n",
       "  </tbody>\n",
       "</table>\n",
       "</div>"
      ],
      "text/plain": [
       "   GarageCars      SalePrice\n",
       "4           4  192655.800000\n",
       "3           3  309636.121547\n",
       "2           2  183851.663835\n",
       "1           1  128116.688347\n",
       "0           0  103317.283951"
      ]
     },
     "execution_count": 36,
     "metadata": {},
     "output_type": "execute_result"
    }
   ],
   "source": [
    "#see the corelations of GarageCars and SalePrice\n",
    "houses[['GarageCars','SalePrice']].groupby(['GarageCars'],\n",
    "as_index=False).mean().sort_values(by='GarageCars', ascending=False)"
   ]
  },
  {
   "cell_type": "code",
   "execution_count": 37,
   "id": "70d333d6",
   "metadata": {},
   "outputs": [],
   "source": [
    "# Normalize the data.\n",
    "# normalized_houses=(houses-houses.mean())/houses.std()\n",
    "normalized_houses=(houses-houses.min())/(houses.max()-houses.min())"
   ]
  },
  {
   "cell_type": "code",
   "execution_count": 38,
   "id": "69a2499f",
   "metadata": {},
   "outputs": [],
   "source": [
    "y = normalized_houses['SalePrice']\n",
    "X = normalized_houses.drop(\"SalePrice\", axis = 1)\n",
    "train_X, test_X, train_y, test_y = train_test_split(X, y,\n",
    "                      test_size = 0.3, random_state = 123)"
   ]
  },
  {
   "cell_type": "code",
   "execution_count": 39,
   "id": "b78209b1",
   "metadata": {},
   "outputs": [],
   "source": [
    "#import packages for XGBoost model\n",
    "import xgboost as xgb"
   ]
  },
  {
   "cell_type": "code",
   "execution_count": 40,
   "id": "48c79546",
   "metadata": {},
   "outputs": [],
   "source": [
    "#read the test data\n",
    "#houses_test = pd.read_csv('./Data/test.csv')"
   ]
  },
  {
   "cell_type": "code",
   "execution_count": 41,
   "id": "c75ff15c",
   "metadata": {},
   "outputs": [
    {
     "data": {
      "text/plain": [
       "MSSubClass               0\n",
       "LotFrontage              0\n",
       "LotArea                  0\n",
       "OverallQual              0\n",
       "OverallCond              0\n",
       "                        ..\n",
       "SaleCondition_AdjLand    0\n",
       "SaleCondition_Alloca     0\n",
       "SaleCondition_Family     0\n",
       "SaleCondition_Normal     0\n",
       "SaleCondition_Partial    0\n",
       "Length: 251, dtype: int64"
      ]
     },
     "execution_count": 41,
     "metadata": {},
     "output_type": "execute_result"
    }
   ],
   "source": [
    "#see the NaNs of test data\n",
    "test_X.isnull().sum()"
   ]
  },
  {
   "cell_type": "code",
   "execution_count": 42,
   "id": "ea8222c1",
   "metadata": {},
   "outputs": [],
   "source": [
    "#creation of XGBoost model \n",
    "\n",
    "model_xgb = xgb.XGBRegressor(objective = 'reg:squarederror', colsample_bytree = 0.3, learning_rate = 0.1,\n",
    "                            max_depth = 7, alpha = 5)"
   ]
  },
  {
   "cell_type": "code",
   "execution_count": 43,
   "id": "5cff7ae0",
   "metadata": {},
   "outputs": [],
   "source": [
    "#fit the model and get prediction of model\n",
    "\n",
    "model_xgb.fit(train_X, train_y)\n",
    "preds_xgb = model_xgb.predict(test_X)\n"
   ]
  },
  {
   "cell_type": "code",
   "execution_count": 44,
   "id": "75a43149",
   "metadata": {},
   "outputs": [
    {
     "data": {
      "text/plain": [
       "array([0.25435543, 0.15370163, 0.18027733, 0.23362042, 0.13522966,\n",
       "       0.3293924 , 0.3656502 , 0.15747403, 0.13513623, 0.15535003,\n",
       "       0.15323596, 0.28300956, 0.16421331, 0.11781525, 0.25752452,\n",
       "       0.20956232, 0.14809276, 0.4031963 , 0.26569512, 0.17573474,\n",
       "       0.13300744, 0.20649043, 0.11202151, 0.15770926, 0.24060579,\n",
       "       0.15207607, 0.21682484, 0.19619176, 0.11771087, 0.1360768 ,\n",
       "       0.13450995, 0.22644556, 0.1436524 , 0.24420486, 0.48533168,\n",
       "       0.21811263, 0.1620326 , 0.39908394, 0.19989333, 0.11166009,\n",
       "       0.14430329, 0.24984547, 0.17483415, 0.20267752, 0.23881766,\n",
       "       0.1120639 , 0.34746602, 0.31940833, 0.30325934, 0.11758024,\n",
       "       0.22084855, 0.21746817, 0.15157646, 0.16487694, 0.11792441,\n",
       "       0.15712404, 0.14510784, 0.15775107, 0.26901478, 0.4567657 ,\n",
       "       0.1169848 , 0.3896869 , 0.19474229, 0.19049819, 0.22180913,\n",
       "       0.12536818, 0.13260156, 0.25206017, 0.2596286 , 0.11799653,\n",
       "       0.15452495, 0.20749056, 0.18008047, 0.3205597 , 0.19487551,\n",
       "       0.13916421, 0.18719076, 0.14873461, 0.24026941, 0.17593619,\n",
       "       0.37324232, 0.39214066, 0.11166009, 0.13722652, 0.25742194,\n",
       "       0.12960711, 0.11540774, 0.12753496, 0.16231246, 0.29419565,\n",
       "       0.13845575, 0.15839872, 0.18040302, 0.19918603, 0.14823003,\n",
       "       0.12372634, 0.2669165 , 0.12235327, 0.27697396, 0.14061294,\n",
       "       0.12273452, 0.47443306, 0.38298807, 0.16624881, 0.20489137,\n",
       "       0.12565635, 0.13639951, 0.24365513, 0.19576591, 0.3974021 ,\n",
       "       0.3241824 , 0.3299017 , 0.13615753, 0.3544948 , 0.20692264,\n",
       "       0.15024085, 0.1793143 , 0.41237187, 0.12118984, 0.16743918,\n",
       "       0.17511594, 0.2096722 , 0.23744957, 0.11179847, 0.31600133,\n",
       "       0.29909837, 0.15031934, 0.12030908, 0.21274096, 0.3854836 ,\n",
       "       0.14527051, 0.43667915, 0.3191888 , 0.18005921, 0.2323281 ,\n",
       "       0.18705052, 0.42476004, 0.12660737, 0.2535358 , 0.170651  ,\n",
       "       0.11710145, 0.25466928, 0.26450884, 0.14128567, 0.19822063,\n",
       "       0.27515823, 0.25228733, 0.15141834, 0.1858721 , 0.1351954 ,\n",
       "       0.21405792, 0.11975083, 0.4560937 , 0.19876708, 0.39594948,\n",
       "       0.15612134, 0.286362  , 0.13178435, 0.12418719, 0.1480183 ,\n",
       "       0.49151996, 0.25007984, 0.35577476, 0.12920512, 0.27503967,\n",
       "       0.11663721, 0.16439788, 0.11733755, 0.17352816, 0.113392  ,\n",
       "       0.13453381, 0.12937713, 0.23064487, 0.2592768 , 0.13457614,\n",
       "       0.36384645, 0.17336835, 0.12731011, 0.20028731, 0.25957012,\n",
       "       0.25283545, 0.15651733, 0.1460901 , 0.13466798, 0.17199902,\n",
       "       0.15445675, 0.13657741, 0.2358073 , 0.15833053, 0.24456878,\n",
       "       0.12227467, 0.13455291, 0.22174062, 0.2867214 , 0.13793792,\n",
       "       0.38337013, 0.12858853, 0.1126103 , 0.17423025, 0.13896024,\n",
       "       0.22057594, 0.41039896, 0.16909365, 0.37946078, 0.18160088,\n",
       "       0.13036568, 0.12481364, 0.3312688 , 0.16581625, 0.26198068,\n",
       "       0.18159023, 0.46014372, 0.13434818, 0.16837464, 0.14637055,\n",
       "       0.26774824, 0.20517851, 0.12880355, 0.12740843, 0.12342291,\n",
       "       0.18734723, 0.11612679, 0.17220667, 0.12693888, 0.12206154,\n",
       "       0.12372623, 0.18431406, 0.11055627, 0.13362995, 0.12863362,\n",
       "       0.12500048, 0.17278834, 0.1737294 , 0.12339629, 0.1175725 ,\n",
       "       0.18355496, 0.17637862, 0.12792827, 0.20535049, 0.11724872,\n",
       "       0.3154787 , 0.28838268, 0.21996346, 0.23230316, 0.12524353,\n",
       "       0.29707196, 0.17671348, 0.34394428, 0.13658124, 0.3243722 ,\n",
       "       0.250401  , 0.11739265, 0.22465354, 0.12648088, 0.18451512,\n",
       "       0.28976622, 0.3927311 , 0.24663766, 0.13579771, 0.1128139 ,\n",
       "       0.22797878, 0.21843053, 0.1776974 , 0.2044429 , 0.15995693,\n",
       "       0.15580568, 0.2807346 , 0.22853091, 0.11055627, 0.11147856,\n",
       "       0.1433973 , 0.11175127, 0.22697754, 0.11055627, 0.36015806,\n",
       "       0.17005706, 0.23854247, 0.24003197, 0.15207076, 0.11093754,\n",
       "       0.14017156, 0.13594282, 0.11100906, 0.13988051, 0.18808222,\n",
       "       0.12501286, 0.16307285, 0.15006036, 0.18714555, 0.12680884,\n",
       "       0.20717765, 0.11538392, 0.4032841 , 0.16266167, 0.28094485,\n",
       "       0.17462915, 0.17725413, 0.27324718, 0.13741827, 0.1351876 ,\n",
       "       0.42024636, 0.14595741, 0.26935473, 0.36064965, 0.42133167,\n",
       "       0.15744694, 0.3965404 , 0.24139209, 0.12533145, 0.11832815,\n",
       "       0.13727134, 0.1817058 , 0.13485864, 0.3389434 , 0.1550833 ,\n",
       "       0.29078344, 0.32390207, 0.12381407, 0.17505983, 0.16345482,\n",
       "       0.337972  , 0.18558523, 0.15607971, 0.21847351, 0.28998503,\n",
       "       0.17542784, 0.11805048, 0.18043597, 0.2247827 , 0.23036236,\n",
       "       0.14461888, 0.13750385, 0.22088344, 0.30679014, 0.128194  ,\n",
       "       0.3592595 , 0.31612858, 0.3182761 , 0.16012639, 0.13899101,\n",
       "       0.12631871, 0.47215247, 0.21883772, 0.13497572, 0.3617529 ,\n",
       "       0.11606141, 0.11708055, 0.15472756, 0.22143565, 0.11907743,\n",
       "       0.16992852, 0.19519784, 0.33591747, 0.172961  , 0.29051846,\n",
       "       0.16857252, 0.2056919 , 0.17320846, 0.12886116, 0.13101654,\n",
       "       0.13829125, 0.17718808, 0.17208758, 0.19007812, 0.14795542,\n",
       "       0.15034772, 0.12020964, 0.1923163 , 0.16673474, 0.2350452 ,\n",
       "       0.2538313 , 0.19587734, 0.11676142, 0.12197445, 0.14858751,\n",
       "       0.25862983, 0.13340017, 0.28902856, 0.22417144, 0.1988563 ,\n",
       "       0.16760322, 0.19537207, 0.21108313, 0.11055627, 0.17188528,\n",
       "       0.13565771, 0.26191095, 0.1120639 , 0.14735556, 0.11068544,\n",
       "       0.20632827, 0.19546005, 0.11102442, 0.18246567, 0.19030742,\n",
       "       0.18256873, 0.2667211 , 0.3097041 , 0.3463387 , 0.12441024,\n",
       "       0.17694508, 0.2775748 , 0.26326737, 0.15332516, 0.16021839,\n",
       "       0.1147529 , 0.23982832, 0.35558966, 0.47168958, 0.23197223,\n",
       "       0.15304866, 0.27034417, 0.18032555, 0.13215871, 0.40238455,\n",
       "       0.21739654, 0.14121065, 0.1260677 , 0.15175392, 0.13864271,\n",
       "       0.25394568, 0.24785395, 0.11665007, 0.21190825, 0.17288761,\n",
       "       0.24890417, 0.311241  , 0.36493552, 0.14128163, 0.12258954,\n",
       "       0.33057624, 0.2154137 , 0.17970864, 0.13972652, 0.12129143,\n",
       "       0.12358586, 0.34382394, 0.32480222], dtype=float32)"
      ]
     },
     "execution_count": 44,
     "metadata": {},
     "output_type": "execute_result"
    }
   ],
   "source": [
    "#see the predictions\n",
    "\n",
    "preds_xgb"
   ]
  },
  {
   "cell_type": "code",
   "execution_count": 45,
   "id": "aca5a67a",
   "metadata": {},
   "outputs": [
    {
     "name": "stdout",
     "output_type": "stream",
     "text": [
      "RMSE :  0.047111\n"
     ]
    }
   ],
   "source": [
    "rmse = np.sqrt(MSE(test_y, preds_xgb))\n",
    "print(\"RMSE : % f\" %(rmse))"
   ]
  },
  {
   "cell_type": "code",
   "execution_count": 46,
   "id": "2339b5f5",
   "metadata": {},
   "outputs": [
    {
     "name": "stdout",
     "output_type": "stream",
     "text": [
      "RMSE :  0.350474\n"
     ]
    }
   ],
   "source": [
    "#import packages for Support Vector Machine model\n",
    "\n",
    "from sklearn.svm import SVR\n",
    "\n",
    "#creation of SVM model\n",
    "\n",
    "model_svm = SVR(kernel = 'sigmoid')\n",
    "\n",
    "#fit the SVM model\n",
    "\n",
    "model_svm.fit(train_X, train_y.values.ravel())\n",
    "\n",
    "#get and see the prediction of the SVM model\n",
    "\n",
    "preds_svm=model_svm.predict(test_X)\n",
    "\n",
    "# Calculate RMSE\n",
    "rmse = np.sqrt(MSE(test_y, preds_svm))\n",
    "print(\"RMSE : % f\" %(rmse))"
   ]
  },
  {
   "cell_type": "code",
   "execution_count": 47,
   "id": "c62b2230",
   "metadata": {},
   "outputs": [
    {
     "name": "stdout",
     "output_type": "stream",
     "text": [
      "RMSE :  0.036052\n"
     ]
    }
   ],
   "source": [
    "#import packages for Random Forest model\n",
    "\n",
    "from sklearn.ensemble import RandomForestRegressor as rfg\n",
    "\n",
    "#creation of model for Random Forest model\n",
    "\n",
    "model_rfg = rfg(n_estimators = 1000, random_state = 20 )\n",
    "\n",
    "#fit the model and get predictions\n",
    "\n",
    "model_rfg.fit(train_X, train_y.values.ravel())\n",
    "preds_rfg = model_rfg.predict(test_X)\n",
    "\n",
    "# Calculate RMSE\n",
    "rmse = np.sqrt(MSE(test_y, preds_rfg))\n",
    "print(\"RMSE : % f\" %(rmse))"
   ]
  },
  {
   "cell_type": "code",
   "execution_count": 48,
   "id": "926ea42d",
   "metadata": {},
   "outputs": [
    {
     "name": "stdout",
     "output_type": "stream",
     "text": [
      "RMSE :  0.031955\n"
     ]
    }
   ],
   "source": [
    "# Gradient Boosting Regressor\n",
    "from sklearn.ensemble import GradientBoostingRegressor\n",
    "\n",
    "#Creation of model\n",
    "model_gbr = GradientBoostingRegressor(n_estimators=6000,\n",
    "                                learning_rate=0.01,\n",
    "                                max_depth=4,\n",
    "                                max_features='sqrt',\n",
    "                                min_samples_leaf=15,\n",
    "                                min_samples_split=10,\n",
    "                                loss='huber',\n",
    "                                random_state=42) \n",
    "\n",
    "#fit the model and get predictions\n",
    "\n",
    "model_gbr.fit(train_X, train_y.values.ravel())\n",
    "preds_gbr = model_gbr.predict(test_X)\n",
    "\n",
    "# Calculate RMSE\n",
    "rmse = np.sqrt(MSE(test_y, preds_gbr))\n",
    "print(\"RMSE : % f\" %(rmse))"
   ]
  },
  {
   "cell_type": "markdown",
   "id": "e9a671bc",
   "metadata": {},
   "source": [
    "We now have four models with varying RMSEs before combining them in an ensemble model lets see if we can imrpove their RMSE's with PCA."
   ]
  },
  {
   "cell_type": "code",
   "execution_count": 49,
   "id": "080e4aa1",
   "metadata": {},
   "outputs": [],
   "source": [
    "from sklearn.decomposition import PCA\n",
    "pca=PCA()\n",
    "PCA_train_X = pca.fit_transform(train_X)"
   ]
  },
  {
   "cell_type": "code",
   "execution_count": 50,
   "id": "e61cf63f",
   "metadata": {},
   "outputs": [
    {
     "data": {
      "text/plain": [
       "array([ 12.89,  19.33,  23.6 ,  27.55,  30.89,  34.05,  36.75,  39.21,\n",
       "        41.6 ,  43.91,  46.09,  48.23,  50.24,  52.08,  53.84,  55.52,\n",
       "        57.12,  58.61,  60.02,  61.33,  62.6 ,  63.82,  65.  ,  66.07,\n",
       "        67.11,  68.11,  69.07,  69.99,  70.86,  71.71,  72.54,  73.34,\n",
       "        74.1 ,  74.83,  75.55,  76.22,  76.87,  77.5 ,  78.11,  78.7 ,\n",
       "        79.26,  79.81,  80.35,  80.87,  81.38,  81.86,  82.33,  82.79,\n",
       "        83.24,  83.67,  84.1 ,  84.52,  84.92,  85.31,  85.68,  86.05,\n",
       "        86.41,  86.76,  87.1 ,  87.43,  87.75,  88.06,  88.37,  88.67,\n",
       "        88.95,  89.23,  89.51,  89.78,  90.04,  90.3 ,  90.56,  90.81,\n",
       "        91.05,  91.29,  91.52,  91.75,  91.97,  92.19,  92.4 ,  92.6 ,\n",
       "        92.8 ,  92.99,  93.18,  93.36,  93.54,  93.71,  93.88,  94.04,\n",
       "        94.2 ,  94.36,  94.51,  94.65,  94.79,  94.93,  95.07,  95.2 ,\n",
       "        95.33,  95.46,  95.58,  95.7 ,  95.82,  95.93,  96.04,  96.15,\n",
       "        96.26,  96.36,  96.46,  96.56,  96.66,  96.76,  96.85,  96.94,\n",
       "        97.03,  97.12,  97.21,  97.29,  97.37,  97.45,  97.53,  97.6 ,\n",
       "        97.67,  97.74,  97.81,  97.88,  97.95,  98.01,  98.07,  98.13,\n",
       "        98.19,  98.25,  98.31,  98.36,  98.41,  98.46,  98.51,  98.56,\n",
       "        98.61,  98.66,  98.71,  98.76,  98.8 ,  98.84,  98.88,  98.92,\n",
       "        98.96,  99.  ,  99.04,  99.07,  99.1 ,  99.13,  99.16,  99.19,\n",
       "        99.22,  99.25,  99.28,  99.31,  99.34,  99.37,  99.4 ,  99.43,\n",
       "        99.45,  99.47,  99.49,  99.51,  99.53,  99.55,  99.57,  99.59,\n",
       "        99.61,  99.63,  99.65,  99.67,  99.69,  99.71,  99.73,  99.74,\n",
       "        99.75,  99.76,  99.77,  99.78,  99.79,  99.8 ,  99.81,  99.82,\n",
       "        99.83,  99.84,  99.85,  99.86,  99.87,  99.88,  99.89,  99.9 ,\n",
       "        99.91,  99.92,  99.93,  99.94,  99.95,  99.96,  99.97,  99.98,\n",
       "        99.99, 100.  , 100.  , 100.  , 100.  , 100.  , 100.  , 100.  ,\n",
       "       100.  , 100.  , 100.  , 100.  , 100.  , 100.  , 100.  , 100.  ,\n",
       "       100.  , 100.  , 100.  , 100.  , 100.  , 100.  , 100.  , 100.  ,\n",
       "       100.  , 100.  , 100.  , 100.  , 100.  , 100.  , 100.  , 100.  ,\n",
       "       100.  , 100.  , 100.  , 100.  , 100.  , 100.  , 100.  , 100.  ,\n",
       "       100.  , 100.  , 100.  , 100.  , 100.  , 100.  , 100.  , 100.  ,\n",
       "       100.  , 100.  , 100.  ])"
      ]
     },
     "execution_count": 50,
     "metadata": {},
     "output_type": "execute_result"
    }
   ],
   "source": [
    "np.cumsum(np.round(pca.explained_variance_ratio_, decimals = 4)*100)[0:]"
   ]
  },
  {
   "cell_type": "markdown",
   "id": "c1858fe0",
   "metadata": {},
   "source": [
    "It seems like we can capture all of the variety in the data with 201 features, this is not a small number but eliminating 50 features without a cost could increase our performance."
   ]
  },
  {
   "cell_type": "code",
   "execution_count": 53,
   "id": "38322a5c",
   "metadata": {},
   "outputs": [],
   "source": [
    "PCA_test_X = pca.fit_transform(test_X)"
   ]
  },
  {
   "cell_type": "code",
   "execution_count": 58,
   "id": "fe4ce995",
   "metadata": {},
   "outputs": [
    {
     "name": "stdout",
     "output_type": "stream",
     "text": [
      "RMSE :  0.085027\n"
     ]
    }
   ],
   "source": [
    "#fit the model and see RMSE of model\n",
    "\n",
    "model_xgb.fit(PCA_train_X[:,:201], train_y)\n",
    "PCA_preds_xgb = model_xgb.predict(PCA_test_X[:,:201])\n",
    "\n",
    "rmse = np.sqrt(MSE(test_y, PCA_preds_xgb))\n",
    "print(\"RMSE : % f\" %(rmse))"
   ]
  },
  {
   "cell_type": "code",
   "execution_count": 55,
   "id": "f588e6fe",
   "metadata": {},
   "outputs": [
    {
     "name": "stdout",
     "output_type": "stream",
     "text": [
      "RMSE :  0.486174\n"
     ]
    }
   ],
   "source": [
    "#fit the SVM model\n",
    "\n",
    "model_svm.fit(PCA_train_X[:,:201], train_y.values.ravel())\n",
    "\n",
    "#get and see the prediction of the SVM model\n",
    "\n",
    "PCA_preds_svm=model_svm.predict(PCA_test_X[:,:201])\n",
    "\n",
    "# Calculate RMSE\n",
    "rmse = np.sqrt(MSE(test_y, PCA_preds_svm))\n",
    "print(\"RMSE : % f\" %(rmse))"
   ]
  },
  {
   "cell_type": "code",
   "execution_count": 57,
   "id": "09eaa15b",
   "metadata": {},
   "outputs": [
    {
     "name": "stdout",
     "output_type": "stream",
     "text": [
      "RMSE :  0.088877\n"
     ]
    }
   ],
   "source": [
    "#fit the Random Forest  and get predictions\n",
    "\n",
    "model_rfg.fit(PCA_train_X[:,:201], train_y.values.ravel())\n",
    "PCA_preds_rfg = model_rfg.predict(PCA_test_X[:,:201])\n",
    "\n",
    "# Calculate RMSE\n",
    "rmse = np.sqrt(MSE(test_y, PCA_preds_rfg))\n",
    "print(\"RMSE : % f\" %(rmse))"
   ]
  },
  {
   "cell_type": "markdown",
   "id": "476f2e9e",
   "metadata": {},
   "source": [
    "It seems like PCA did not improve out performance, lets try eliminating highly correllated features."
   ]
  }
 ],
 "metadata": {
  "kernelspec": {
   "display_name": "Python 3 (ipykernel)",
   "language": "python",
   "name": "python3"
  },
  "language_info": {
   "codemirror_mode": {
    "name": "ipython",
    "version": 3
   },
   "file_extension": ".py",
   "mimetype": "text/x-python",
   "name": "python",
   "nbconvert_exporter": "python",
   "pygments_lexer": "ipython3",
   "version": "3.7.13"
  }
 },
 "nbformat": 4,
 "nbformat_minor": 5
}
